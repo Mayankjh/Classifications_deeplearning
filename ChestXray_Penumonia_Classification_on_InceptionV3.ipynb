{
  "nbformat": 4,
  "nbformat_minor": 0,
  "metadata": {
    "colab": {
      "name": "ChestXray_Penumonia_Classification_on_InceptionV3.ipynb",
      "provenance": [],
      "collapsed_sections": [],
      "include_colab_link": true
    },
    "kernelspec": {
      "name": "python3",
      "display_name": "Python 3"
    },
    "accelerator": "GPU"
  },
  "cells": [
    {
      "cell_type": "markdown",
      "metadata": {
        "id": "view-in-github",
        "colab_type": "text"
      },
      "source": [
        "<a href=\"https://colab.research.google.com/github/Mayankjh/Classifications_deeplearning/blob/master/ChestXray_Penumonia_Classification_on_InceptionV3.ipynb\" target=\"_parent\"><img src=\"https://colab.research.google.com/assets/colab-badge.svg\" alt=\"Open In Colab\"/></a>"
      ]
    },
    {
      "cell_type": "code",
      "metadata": {
        "id": "z0OuAzplG-Ai",
        "colab_type": "code",
        "outputId": "437e2fca-1c69-4d70-be89-b7bbbecc6ec2",
        "colab": {
          "base_uri": "https://localhost:8080/",
          "height": 34
        }
      },
      "source": [
        "from google.colab import drive\n",
        "drive.mount('/content/drive')"
      ],
      "execution_count": 4,
      "outputs": [
        {
          "output_type": "stream",
          "text": [
            "Drive already mounted at /content/drive; to attempt to forcibly remount, call drive.mount(\"/content/drive\", force_remount=True).\n"
          ],
          "name": "stdout"
        }
      ]
    },
    {
      "cell_type": "code",
      "metadata": {
        "id": "Fjb1xsntG-j4",
        "colab_type": "code",
        "outputId": "0a7a8eb0-6e19-4005-cfef-5f2ff1a20fed",
        "colab": {
          "base_uri": "https://localhost:8080/",
          "height": 34
        }
      },
      "source": [
        "ls drive/'My Drive'/chest_xray11"
      ],
      "execution_count": 5,
      "outputs": [
        {
          "output_type": "stream",
          "text": [
            "\u001b[0m\u001b[01;34mtest\u001b[0m/  \u001b[01;34mtrain\u001b[0m/  \u001b[01;34mval\u001b[0m/\n"
          ],
          "name": "stdout"
        }
      ]
    },
    {
      "cell_type": "code",
      "metadata": {
        "id": "mIXwtGMlHOqi",
        "colab_type": "code",
        "outputId": "1c643616-57c0-4179-b92d-c08fea4607ea",
        "colab": {
          "base_uri": "https://localhost:8080/",
          "height": 51
        }
      },
      "source": [
        "import numpy as np # linear algebra\n",
        "import pandas as pd # data processing, CSV file I/O (e.g. pd.read_csv)\n",
        "\n",
        "# Input data files are available in the \"../input/\" directory.\n",
        "# For example, running this (by clicking run or pressing Shift+Enter) will list the files in the input directory\n",
        "\n",
        "import os\n",
        "print(os.listdir(\"drive/My Drive/chest_xray11\"))\n",
        "\n",
        "from os import listdir, makedirs\n",
        "from os.path import join, exists, expanduser\n",
        "\n",
        "from keras.applications.inception_v3 import InceptionV3\n",
        "from keras import applications\n",
        "from keras.preprocessing.image import ImageDataGenerator\n",
        "from keras import optimizers\n",
        "from keras.models import Sequential, Model, load_model\n",
        "from keras.layers import Dense, GlobalAveragePooling2D\n",
        "from keras.layers import Activation, Dropout, Flatten, Dense\n",
        "from keras import backend as K\n",
        "import tensorflow as tf\n",
        "from keras.utils.data_utils import Sequence\n",
        "import sys\n",
        "from PIL import *\n",
        "sys.modules['Image'] = Image \n",
        "print(os.listdir(\"drive/My Drive/chest_xray11/train\"))"
      ],
      "execution_count": 7,
      "outputs": [
        {
          "output_type": "stream",
          "text": [
            "['test', 'train', 'val', '.ipynb_checkpoints']\n",
            "['NORMAL', 'PNEUMONIA']\n"
          ],
          "name": "stdout"
        }
      ]
    },
    {
      "cell_type": "code",
      "metadata": {
        "id": "dDryNjXOIF5g",
        "colab_type": "code",
        "colab": {}
      },
      "source": [
        "img_width, img_height = 224,224\n",
        "train_data = 'drive/My Drive/chest_xray11/train'\n",
        "test_data = 'drive/My Drive/chest_xray11/test'\n",
        "# val_data = 'drive/My Drive/chest_xray1/val'"
      ],
      "execution_count": 0,
      "outputs": []
    },
    {
      "cell_type": "code",
      "metadata": {
        "id": "5W_OgxkZIQel",
        "colab_type": "code",
        "outputId": "86e321a8-6313-498b-c582-1e1e7dc8d5b1",
        "colab": {
          "base_uri": "https://localhost:8080/",
          "height": 51
        }
      },
      "source": [
        "from keras.preprocessing.image import ImageDataGenerator\n",
        "train_datagen = ImageDataGenerator(\n",
        "    rescale=1. / 255,\n",
        "    shear_range=0.2,\n",
        "    zoom_range=0.2,\n",
        "    horizontal_flip=True)\n",
        "\n",
        "test_datagen = ImageDataGenerator(rescale=1. / 255)\n",
        "# val_datagen = ImageDataGenerator(rescale=1. / 255)\n",
        "\n",
        "train_generator = train_datagen.flow_from_directory(\n",
        "    train_data,\n",
        "    target_size=(224,224),\n",
        "    batch_size=32,\n",
        "    class_mode='categorical')\n",
        "\n",
        "test_generator = test_datagen.flow_from_directory(\n",
        "    test_data,\n",
        "    target_size=(224,224),\n",
        "    batch_size=32,\n",
        "    class_mode='categorical')\n",
        "\n",
        "# validation_generator = val_datagen.flow_from_directory(\n",
        "#     val_data,\n",
        "#     target_size=(224,224),\n",
        "#     batch_size=32,\n",
        "#     class_mode='categorical')"
      ],
      "execution_count": 9,
      "outputs": [
        {
          "output_type": "stream",
          "text": [
            "Found 5226 images belonging to 2 classes.\n",
            "Found 640 images belonging to 2 classes.\n"
          ],
          "name": "stdout"
        }
      ]
    },
    {
      "cell_type": "code",
      "metadata": {
        "id": "fNkxLCL1IcJJ",
        "colab_type": "code",
        "outputId": "bf9c767d-a4a5-408a-c077-2e1b11dd2793",
        "colab": {
          "base_uri": "https://localhost:8080/",
          "height": 513
        }
      },
      "source": [
        "#import inception with pre-trained weights. do not include fully #connected layers\n",
        "\n",
        "from keras.applications.inception_v3 import InceptionV3\n",
        "from keras.layers import Input\n",
        "from keras import optimizers\n",
        "model = InceptionV3(weights='imagenet', include_top=False)"
      ],
      "execution_count": 10,
      "outputs": [
        {
          "output_type": "stream",
          "text": [
            "WARNING:tensorflow:From /usr/local/lib/python3.6/dist-packages/keras/backend/tensorflow_backend.py:66: The name tf.get_default_graph is deprecated. Please use tf.compat.v1.get_default_graph instead.\n",
            "\n",
            "WARNING:tensorflow:From /usr/local/lib/python3.6/dist-packages/keras/backend/tensorflow_backend.py:541: The name tf.placeholder is deprecated. Please use tf.compat.v1.placeholder instead.\n",
            "\n",
            "WARNING:tensorflow:From /usr/local/lib/python3.6/dist-packages/keras/backend/tensorflow_backend.py:4432: The name tf.random_uniform is deprecated. Please use tf.random.uniform instead.\n",
            "\n",
            "WARNING:tensorflow:From /usr/local/lib/python3.6/dist-packages/keras/backend/tensorflow_backend.py:190: The name tf.get_default_session is deprecated. Please use tf.compat.v1.get_default_session instead.\n",
            "\n",
            "WARNING:tensorflow:From /usr/local/lib/python3.6/dist-packages/keras/backend/tensorflow_backend.py:197: The name tf.ConfigProto is deprecated. Please use tf.compat.v1.ConfigProto instead.\n",
            "\n",
            "WARNING:tensorflow:From /usr/local/lib/python3.6/dist-packages/keras/backend/tensorflow_backend.py:203: The name tf.Session is deprecated. Please use tf.compat.v1.Session instead.\n",
            "\n",
            "WARNING:tensorflow:From /usr/local/lib/python3.6/dist-packages/keras/backend/tensorflow_backend.py:207: The name tf.global_variables is deprecated. Please use tf.compat.v1.global_variables instead.\n",
            "\n",
            "WARNING:tensorflow:From /usr/local/lib/python3.6/dist-packages/keras/backend/tensorflow_backend.py:216: The name tf.is_variable_initialized is deprecated. Please use tf.compat.v1.is_variable_initialized instead.\n",
            "\n",
            "WARNING:tensorflow:From /usr/local/lib/python3.6/dist-packages/keras/backend/tensorflow_backend.py:223: The name tf.variables_initializer is deprecated. Please use tf.compat.v1.variables_initializer instead.\n",
            "\n",
            "WARNING:tensorflow:From /usr/local/lib/python3.6/dist-packages/keras/backend/tensorflow_backend.py:2041: The name tf.nn.fused_batch_norm is deprecated. Please use tf.compat.v1.nn.fused_batch_norm instead.\n",
            "\n",
            "WARNING:tensorflow:From /usr/local/lib/python3.6/dist-packages/keras/backend/tensorflow_backend.py:148: The name tf.placeholder_with_default is deprecated. Please use tf.compat.v1.placeholder_with_default instead.\n",
            "\n",
            "WARNING:tensorflow:From /usr/local/lib/python3.6/dist-packages/keras/backend/tensorflow_backend.py:4267: The name tf.nn.max_pool is deprecated. Please use tf.nn.max_pool2d instead.\n",
            "\n",
            "WARNING:tensorflow:From /usr/local/lib/python3.6/dist-packages/keras/backend/tensorflow_backend.py:4271: The name tf.nn.avg_pool is deprecated. Please use tf.nn.avg_pool2d instead.\n",
            "\n",
            "Downloading data from https://github.com/fchollet/deep-learning-models/releases/download/v0.5/inception_v3_weights_tf_dim_ordering_tf_kernels_notop.h5\n",
            "87916544/87910968 [==============================] - 8s 0us/step\n"
          ],
          "name": "stdout"
        }
      ]
    },
    {
      "cell_type": "code",
      "metadata": {
        "id": "ZPw1TKFYI5iE",
        "colab_type": "code",
        "colab": {}
      },
      "source": [
        "\n",
        "result = model.output\n",
        "result = GlobalAveragePooling2D()(result)\n",
        "# add a fully-connected layer\n",
        "# result1 = Dense(256, activation='relu')(result)\n",
        "result = Dense(512, activation='relu')(result)\n",
        "result = Dense(256, activation='relu')(result)\n",
        "sgd = optimizers.SGD(lr=0.01, decay=1e-6, momentum=0.9, nesterov=True)\n",
        "# and a fully connected output/classification layer\n",
        "predictions = Dense(2, activation='sigmoid')(result)"
      ],
      "execution_count": 0,
      "outputs": []
    },
    {
      "cell_type": "code",
      "metadata": {
        "id": "wq7mTslKI9LZ",
        "colab_type": "code",
        "colab": {}
      },
      "source": [
        "inception_transfer = Model(inputs=model.input, outputs=predictions)\n"
      ],
      "execution_count": 0,
      "outputs": []
    },
    {
      "cell_type": "code",
      "metadata": {
        "id": "iO7JnoS8I_SN",
        "colab_type": "code",
        "outputId": "50539ed0-d533-499b-f4f0-5a00e508f8ba",
        "colab": {
          "base_uri": "https://localhost:8080/",
          "height": 85
        }
      },
      "source": [
        "from keras.callbacks import ModelCheckpoint, ReduceLROnPlateau, EarlyStopping\n",
        "\n",
        "checkpoint = ModelCheckpoint(filepath='Penumonia_detector_checkpoint.hdf5', save_best_only=True, save_weights_only=True)\n",
        "lr_reduce = ReduceLROnPlateau(monitor='val_loss', factor=0.3, patience=2, verbose=2, mode='max')\n",
        "early_stop = EarlyStopping(monitor='val_loss', min_delta=0.1, patience=1, mode='min')\n",
        "\n",
        "inception_transfer.compile(loss='categorical_crossentropy',\n",
        "              optimizer='sgd',\n",
        "              metrics=['accuracy'])"
      ],
      "execution_count": 13,
      "outputs": [
        {
          "output_type": "stream",
          "text": [
            "WARNING:tensorflow:From /usr/local/lib/python3.6/dist-packages/keras/optimizers.py:793: The name tf.train.Optimizer is deprecated. Please use tf.compat.v1.train.Optimizer instead.\n",
            "\n",
            "WARNING:tensorflow:From /usr/local/lib/python3.6/dist-packages/keras/backend/tensorflow_backend.py:3576: The name tf.log is deprecated. Please use tf.math.log instead.\n",
            "\n"
          ],
          "name": "stdout"
        }
      ]
    },
    {
      "cell_type": "code",
      "metadata": {
        "id": "YAwf_mZ_JCLN",
        "colab_type": "code",
        "outputId": "a12b9c79-76d4-4586-dc4d-c8da81ab0c74",
        "colab": {
          "base_uri": "https://localhost:8080/",
          "height": 1000
        }
      },
      "source": [
        "history_pretrained = inception_transfer.fit_generator(\n",
        "    train_generator,\n",
        "    epochs=30, shuffle = True, verbose = 1, validation_data = test_generator, callbacks=[checkpoint, lr_reduce])"
      ],
      "execution_count": 14,
      "outputs": [
        {
          "output_type": "stream",
          "text": [
            "WARNING:tensorflow:From /usr/local/lib/python3.6/dist-packages/tensorflow_core/python/ops/math_grad.py:1424: where (from tensorflow.python.ops.array_ops) is deprecated and will be removed in a future version.\n",
            "Instructions for updating:\n",
            "Use tf.where in 2.0, which has the same broadcast rule as np.where\n",
            "WARNING:tensorflow:From /usr/local/lib/python3.6/dist-packages/keras/backend/tensorflow_backend.py:1033: The name tf.assign_add is deprecated. Please use tf.compat.v1.assign_add instead.\n",
            "\n",
            "WARNING:tensorflow:From /usr/local/lib/python3.6/dist-packages/keras/backend/tensorflow_backend.py:1020: The name tf.assign is deprecated. Please use tf.compat.v1.assign instead.\n",
            "\n",
            "Epoch 1/30\n",
            "164/164 [==============================] - 2755s 17s/step - loss: 0.2664 - acc: 0.8753 - val_loss: 0.3159 - val_acc: 0.8844\n",
            "Epoch 2/30\n",
            "164/164 [==============================] - 158s 962ms/step - loss: 0.0961 - acc: 0.9646 - val_loss: 0.2849 - val_acc: 0.8938\n",
            "Epoch 3/30\n",
            "164/164 [==============================] - 164s 1s/step - loss: 0.0754 - acc: 0.9747 - val_loss: 0.2370 - val_acc: 0.9141\n",
            "\n",
            "Epoch 00003: ReduceLROnPlateau reducing learning rate to 0.0029999999329447745.\n",
            "Epoch 4/30\n",
            "164/164 [==============================] - 162s 991ms/step - loss: 0.0576 - acc: 0.9794 - val_loss: 0.2425 - val_acc: 0.9062\n",
            "Epoch 5/30\n",
            "164/164 [==============================] - 164s 999ms/step - loss: 0.0542 - acc: 0.9811 - val_loss: 0.3026 - val_acc: 0.8859\n",
            "\n",
            "Epoch 00005: ReduceLROnPlateau reducing learning rate to 0.0009000000078231095.\n",
            "Epoch 6/30\n",
            "164/164 [==============================] - 164s 997ms/step - loss: 0.0507 - acc: 0.9817 - val_loss: 0.2319 - val_acc: 0.9141\n",
            "Epoch 7/30\n",
            "164/164 [==============================] - 162s 988ms/step - loss: 0.0434 - acc: 0.9840 - val_loss: 0.2073 - val_acc: 0.9187\n",
            "\n",
            "Epoch 00007: ReduceLROnPlateau reducing learning rate to 0.00026999999536201356.\n",
            "Epoch 8/30\n",
            "164/164 [==============================] - 163s 995ms/step - loss: 0.0420 - acc: 0.9848 - val_loss: 0.2157 - val_acc: 0.9125\n",
            "Epoch 9/30\n",
            "164/164 [==============================] - 165s 1s/step - loss: 0.0476 - acc: 0.9821 - val_loss: 0.2194 - val_acc: 0.9109\n",
            "\n",
            "Epoch 00009: ReduceLROnPlateau reducing learning rate to 8.099999686237424e-05.\n",
            "Epoch 10/30\n",
            "164/164 [==============================] - 166s 1s/step - loss: 0.0461 - acc: 0.9829 - val_loss: 0.2219 - val_acc: 0.9109\n",
            "Epoch 11/30\n",
            "164/164 [==============================] - 165s 1s/step - loss: 0.0469 - acc: 0.9842 - val_loss: 0.2190 - val_acc: 0.9109\n",
            "\n",
            "Epoch 00011: ReduceLROnPlateau reducing learning rate to 2.429999949526973e-05.\n",
            "Epoch 12/30\n",
            "164/164 [==============================] - 166s 1s/step - loss: 0.0494 - acc: 0.9823 - val_loss: 0.2216 - val_acc: 0.9109\n",
            "Epoch 13/30\n",
            "164/164 [==============================] - 166s 1s/step - loss: 0.0426 - acc: 0.9836 - val_loss: 0.2191 - val_acc: 0.9109\n",
            "\n",
            "Epoch 00013: ReduceLROnPlateau reducing learning rate to 7.289999848580919e-06.\n",
            "Epoch 14/30\n",
            "164/164 [==============================] - 166s 1s/step - loss: 0.0483 - acc: 0.9835 - val_loss: 0.2153 - val_acc: 0.9125\n",
            "Epoch 15/30\n",
            "164/164 [==============================] - 166s 1s/step - loss: 0.0419 - acc: 0.9847 - val_loss: 0.2164 - val_acc: 0.9125\n",
            "\n",
            "Epoch 00015: ReduceLROnPlateau reducing learning rate to 2.186999927289435e-06.\n",
            "Epoch 16/30\n",
            "164/164 [==============================] - 165s 1s/step - loss: 0.0506 - acc: 0.9839 - val_loss: 0.2168 - val_acc: 0.9125\n",
            "Epoch 17/30\n",
            "164/164 [==============================] - 167s 1s/step - loss: 0.0418 - acc: 0.9836 - val_loss: 0.2181 - val_acc: 0.9125\n",
            "\n",
            "Epoch 00017: ReduceLROnPlateau reducing learning rate to 6.560999509019894e-07.\n",
            "Epoch 18/30\n",
            "164/164 [==============================] - 165s 1s/step - loss: 0.0465 - acc: 0.9825 - val_loss: 0.2179 - val_acc: 0.9125\n",
            "Epoch 19/30\n",
            "164/164 [==============================] - 165s 1s/step - loss: 0.0434 - acc: 0.9848 - val_loss: 0.2200 - val_acc: 0.9109\n",
            "\n",
            "Epoch 00019: ReduceLROnPlateau reducing learning rate to 1.9682997844938655e-07.\n",
            "Epoch 20/30\n",
            "164/164 [==============================] - 166s 1s/step - loss: 0.0507 - acc: 0.9824 - val_loss: 0.2164 - val_acc: 0.9125\n",
            "Epoch 21/30\n",
            "164/164 [==============================] - 166s 1s/step - loss: 0.0440 - acc: 0.9853 - val_loss: 0.2189 - val_acc: 0.9125\n",
            "\n",
            "Epoch 00021: ReduceLROnPlateau reducing learning rate to 5.9048991829513396e-08.\n",
            "Epoch 22/30\n",
            "164/164 [==============================] - 165s 1s/step - loss: 0.0407 - acc: 0.9851 - val_loss: 0.2179 - val_acc: 0.9109\n",
            "Epoch 23/30\n",
            "164/164 [==============================] - 165s 1s/step - loss: 0.0505 - acc: 0.9815 - val_loss: 0.2152 - val_acc: 0.9141\n",
            "\n",
            "Epoch 00023: ReduceLROnPlateau reducing learning rate to 1.771469797517966e-08.\n",
            "Epoch 24/30\n",
            "164/164 [==============================] - 165s 1s/step - loss: 0.0440 - acc: 0.9851 - val_loss: 0.2185 - val_acc: 0.9125\n",
            "Epoch 25/30\n",
            "164/164 [==============================] - 166s 1s/step - loss: 0.0478 - acc: 0.9829 - val_loss: 0.2195 - val_acc: 0.9109\n",
            "\n",
            "Epoch 00025: ReduceLROnPlateau reducing learning rate to 5.314409179391077e-09.\n",
            "Epoch 26/30\n",
            "164/164 [==============================] - 166s 1s/step - loss: 0.0502 - acc: 0.9826 - val_loss: 0.2198 - val_acc: 0.9109\n",
            "Epoch 27/30\n",
            "164/164 [==============================] - 165s 1s/step - loss: 0.0430 - acc: 0.9851 - val_loss: 0.2161 - val_acc: 0.9125\n",
            "\n",
            "Epoch 00027: ReduceLROnPlateau reducing learning rate to 1.5943228071080283e-09.\n",
            "Epoch 28/30\n",
            "164/164 [==============================] - 165s 1s/step - loss: 0.0431 - acc: 0.9846 - val_loss: 0.2206 - val_acc: 0.9109\n",
            "Epoch 29/30\n",
            "164/164 [==============================] - 165s 1s/step - loss: 0.0445 - acc: 0.9840 - val_loss: 0.2173 - val_acc: 0.9109\n",
            "\n",
            "Epoch 00029: ReduceLROnPlateau reducing learning rate to 4.782968354710703e-10.\n",
            "Epoch 30/30\n",
            "164/164 [==============================] - 165s 1s/step - loss: 0.0454 - acc: 0.9844 - val_loss: 0.2212 - val_acc: 0.9109\n"
          ],
          "name": "stdout"
        }
      ]
    },
    {
      "cell_type": "code",
      "metadata": {
        "id": "6sVOcocGWsCP",
        "colab_type": "code",
        "colab": {
          "base_uri": "https://localhost:8080/",
          "height": 241
        },
        "outputId": "9f904e0a-df26-4183-8b68-bc25c18e0fac"
      },
      "source": [
        "import matplotlib.pyplot as plt\n",
        "%matplotlib inline\n",
        "fig, ax = plt.subplots(1, 2, figsize=(10, 3))\n",
        "ax = ax.ravel()\n",
        "\n",
        "for i, met in enumerate(['acc', 'loss']):\n",
        "    ax[i].plot(history_pretrained.history[met])\n",
        "    ax[i].plot(history_pretrained.history['val_' + met])\n",
        "    ax[i].set_title('Model {}'.format(met))\n",
        "    ax[i].set_xlabel('epochs')\n",
        "    ax[i].set_ylabel(met)\n",
        "    ax[i].legend(['train', 'val'])"
      ],
      "execution_count": 16,
      "outputs": [
        {
          "output_type": "display_data",
          "data": {
            "image/png": "[encoded data removed]",
            "text/plain": [
              "<Figure size 720x216 with 2 Axes>"
            ]
          },
          "metadata": {
            "tags": []
          }
        }
      ]
    },
    {
      "cell_type": "code",
      "metadata": {
        "id": "OG8qq6PC1ind",
        "colab_type": "code",
        "colab": {}
      },
      "source": [
        ""
      ],
      "execution_count": 0,
      "outputs": []
    }
  ]
}