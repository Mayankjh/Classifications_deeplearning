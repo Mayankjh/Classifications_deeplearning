{
  "nbformat": 4,
  "nbformat_minor": 0,
  "metadata": {
    "colab": {
      "name": "ChestXray Penumonia (VGG16 & VGG19 Models With SGD).ipynb",
      "provenance": [],
      "collapsed_sections": [],
      "include_colab_link": true
    },
    "kernelspec": {
      "name": "python3",
      "display_name": "Python 3"
    },
    "accelerator": "GPU"
  },
  "cells": [
    {
      "cell_type": "markdown",
      "metadata": {
        "id": "view-in-github",
        "colab_type": "text"
      },
      "source": [
        "<a href=\"https://colab.research.google.com/github/Mayankjh/Classifications_deeplearning/blob/master/ChestXray_Penumonia_(VGG16_%26_VGG19_Models_With_SGD).ipynb\" target=\"_parent\"><img src=\"https://colab.research.google.com/assets/colab-badge.svg\" alt=\"Open In Colab\"/></a>"
      ]
    },
    {
      "cell_type": "code",
      "metadata": {
        "id": "z0OuAzplG-Ai",
        "colab_type": "code",
        "outputId": "b7a57c1b-c3ba-4711-efbb-138a7772af49",
        "colab": {
          "base_uri": "https://localhost:8080/",
          "height": 121
        }
      },
      "source": [
        "from google.colab import drive\n",
        "drive.mount('/content/drive')"
      ],
      "execution_count": 0,
      "outputs": [
        {
          "output_type": "stream",
          "text": [
            "Go to this URL in a browser: https://accounts.google.com/o/oauth2/auth?client_id=947318989803-6bn6qk8qdgf4n4g3pfee6491hc0brc4i.apps.googleusercontent.com&redirect_uri=urn%3Aietf%3Awg%3Aoauth%3A2.0%3Aoob&scope=email%20https%3A%2F%2Fwww.googleapis.com%2Fauth%2Fdocs.test%20https%3A%2F%2Fwww.googleapis.com%2Fauth%2Fdrive%20https%3A%2F%2Fwww.googleapis.com%2Fauth%2Fdrive.photos.readonly%20https%3A%2F%2Fwww.googleapis.com%2Fauth%2Fpeopleapi.readonly&response_type=code\n",
            "\n",
            "Enter your authorization code:\n",
            "··········\n",
            "Mounted at /content/drive\n"
          ],
          "name": "stdout"
        }
      ]
    },
    {
      "cell_type": "code",
      "metadata": {
        "id": "Fjb1xsntG-j4",
        "colab_type": "code",
        "outputId": "1f9b4f3d-9618-4251-d7a1-be6cb74b5a63",
        "colab": {
          "base_uri": "https://localhost:8080/",
          "height": 34
        }
      },
      "source": [
        "ls drive/'My Drive'/chest_xray1"
      ],
      "execution_count": 0,
      "outputs": [
        {
          "output_type": "stream",
          "text": [
            "\u001b[0m\u001b[01;34mtest\u001b[0m/  \u001b[01;34mtrain\u001b[0m/  \u001b[01;34mval\u001b[0m/\n"
          ],
          "name": "stdout"
        }
      ]
    },
    {
      "cell_type": "code",
      "metadata": {
        "id": "mIXwtGMlHOqi",
        "colab_type": "code",
        "outputId": "676cec05-a76f-47ea-d659-caff26d5079b",
        "colab": {
          "base_uri": "https://localhost:8080/",
          "height": 113
        }
      },
      "source": [
        "import numpy as np # linear algebra\n",
        "import pandas as pd # data processing, CSV file I/O (e.g. pd.read_csv)\n",
        "\n",
        "# Input data files are available in the \"../input/\" directory.\n",
        "# For example, running this (by clicking run or pressing Shift+Enter) will list the files in the input directory\n",
        "\n",
        "import os\n",
        "print(os.listdir(\"drive/My Drive/chest_xray1\"))\n",
        "\n",
        "from os import listdir, makedirs\n",
        "from os.path import join, exists, expanduser\n",
        "\n",
        "from keras.applications.inception_v3 import InceptionV3\n",
        "from keras import applications\n",
        "from keras.preprocessing.image import ImageDataGenerator\n",
        "from keras import optimizers\n",
        "from keras.models import Sequential, Model, load_model\n",
        "from keras.layers import Dense, GlobalAveragePooling2D\n",
        "from keras.layers import Activation, Dropout, Flatten, Dense\n",
        "from keras import backend as K\n",
        "import tensorflow as tf\n",
        "from keras.utils.data_utils import Sequence\n",
        "import sys\n",
        "from PIL import *\n",
        "sys.modules['Image'] = Image \n",
        "print(os.listdir(\"drive/My Drive/chest_xray1/train\"))"
      ],
      "execution_count": 0,
      "outputs": [
        {
          "output_type": "stream",
          "text": [
            "['test', 'train', 'val', '.ipynb_checkpoints']\n"
          ],
          "name": "stdout"
        },
        {
          "output_type": "stream",
          "text": [
            "Using TensorFlow backend.\n"
          ],
          "name": "stderr"
        },
        {
          "output_type": "display_data",
          "data": {
            "text/html": [
              "<p style=\"color: red;\">\n",
              "The default version of TensorFlow in Colab will soon switch to TensorFlow 2.x.<br>\n",
              "We recommend you <a href=\"https://www.tensorflow.org/guide/migrate\" target=\"_blank\">upgrade</a> now \n",
              "or ensure your notebook will continue to use TensorFlow 1.x via the <code>%tensorflow_version 1.x</code> magic:\n",
              "<a href=\"https://colab.research.google.com/notebooks/tensorflow_version.ipynb\" target=\"_blank\">more info</a>.</p>\n"
            ],
            "text/plain": [
              "<IPython.core.display.HTML object>"
            ]
          },
          "metadata": {
            "tags": []
          }
        },
        {
          "output_type": "stream",
          "text": [
            "['NORMAL', 'PNEUMONIA']\n"
          ],
          "name": "stdout"
        }
      ]
    },
    {
      "cell_type": "code",
      "metadata": {
        "id": "dDryNjXOIF5g",
        "colab_type": "code",
        "colab": {}
      },
      "source": [
        "img_width, img_height = 224,224\n",
        "train_data = 'drive/My Drive/chest_xray1/train'\n",
        "test_data = 'drive/My Drive/chest_xray1/test'\n",
        "val_data = 'drive/My Drive/chest_xray1/val'"
      ],
      "execution_count": 0,
      "outputs": []
    },
    {
      "cell_type": "code",
      "metadata": {
        "id": "5W_OgxkZIQel",
        "colab_type": "code",
        "outputId": "791ff03d-f86e-4625-f097-523a3810f691",
        "colab": {
          "base_uri": "https://localhost:8080/",
          "height": 67
        }
      },
      "source": [
        "from keras.preprocessing.image import ImageDataGenerator\n",
        "train_datagen = ImageDataGenerator(\n",
        "    rescale=1. / 255,\n",
        "    shear_range=0.2,\n",
        "    zoom_range=0.2,\n",
        "    horizontal_flip=True)\n",
        "\n",
        "test_datagen = ImageDataGenerator(rescale=1. / 255)\n",
        "val_datagen = ImageDataGenerator(rescale=1. / 255)\n",
        "\n",
        "train_generator = train_datagen.flow_from_directory(\n",
        "    train_data,\n",
        "    target_size=(224,224),\n",
        "    batch_size=32,\n",
        "    class_mode='categorical')\n",
        "\n",
        "test_generator = test_datagen.flow_from_directory(\n",
        "    test_data,\n",
        "    target_size=(224,224),\n",
        "    batch_size=32,\n",
        "    class_mode='categorical')\n",
        "\n",
        "validation_generator = val_datagen.flow_from_directory(\n",
        "    val_data,\n",
        "    target_size=(224,224),\n",
        "    batch_size=32,\n",
        "    class_mode='categorical')"
      ],
      "execution_count": 0,
      "outputs": [
        {
          "output_type": "stream",
          "text": [
            "Found 5226 images belonging to 2 classes.\n",
            "Found 640 images belonging to 2 classes.\n",
            "Found 0 images belonging to 0 classes.\n"
          ],
          "name": "stdout"
        }
      ]
    },
    {
      "cell_type": "code",
      "metadata": {
        "id": "fNkxLCL1IcJJ",
        "colab_type": "code",
        "outputId": "25d65e41-3074-4181-9e85-3ab9aadd41d5",
        "colab": {
          "base_uri": "https://localhost:8080/",
          "height": 406
        }
      },
      "source": [
        "from keras.applications.vgg16 import VGG16\n",
        "model = VGG16(include_top=True, weights='imagenet', input_tensor=None, input_shape=None, pooling=None, classes=1000)\n"
      ],
      "execution_count": 0,
      "outputs": [
        {
          "output_type": "stream",
          "text": [
            "WARNING:tensorflow:From /usr/local/lib/python3.6/dist-packages/keras/backend/tensorflow_backend.py:66: The name tf.get_default_graph is deprecated. Please use tf.compat.v1.get_default_graph instead.\n",
            "\n",
            "WARNING:tensorflow:From /usr/local/lib/python3.6/dist-packages/keras/backend/tensorflow_backend.py:541: The name tf.placeholder is deprecated. Please use tf.compat.v1.placeholder instead.\n",
            "\n",
            "WARNING:tensorflow:From /usr/local/lib/python3.6/dist-packages/keras/backend/tensorflow_backend.py:4432: The name tf.random_uniform is deprecated. Please use tf.random.uniform instead.\n",
            "\n",
            "WARNING:tensorflow:From /usr/local/lib/python3.6/dist-packages/keras/backend/tensorflow_backend.py:4267: The name tf.nn.max_pool is deprecated. Please use tf.nn.max_pool2d instead.\n",
            "\n",
            "Downloading data from https://github.com/fchollet/deep-learning-models/releases/download/v0.1/vgg16_weights_tf_dim_ordering_tf_kernels.h5\n",
            "553467904/553467096 [==============================] - 15s 0us/step\n",
            "WARNING:tensorflow:From /usr/local/lib/python3.6/dist-packages/keras/backend/tensorflow_backend.py:190: The name tf.get_default_session is deprecated. Please use tf.compat.v1.get_default_session instead.\n",
            "\n",
            "WARNING:tensorflow:From /usr/local/lib/python3.6/dist-packages/keras/backend/tensorflow_backend.py:197: The name tf.ConfigProto is deprecated. Please use tf.compat.v1.ConfigProto instead.\n",
            "\n",
            "WARNING:tensorflow:From /usr/local/lib/python3.6/dist-packages/keras/backend/tensorflow_backend.py:203: The name tf.Session is deprecated. Please use tf.compat.v1.Session instead.\n",
            "\n",
            "WARNING:tensorflow:From /usr/local/lib/python3.6/dist-packages/keras/backend/tensorflow_backend.py:207: The name tf.global_variables is deprecated. Please use tf.compat.v1.global_variables instead.\n",
            "\n",
            "WARNING:tensorflow:From /usr/local/lib/python3.6/dist-packages/keras/backend/tensorflow_backend.py:216: The name tf.is_variable_initialized is deprecated. Please use tf.compat.v1.is_variable_initialized instead.\n",
            "\n",
            "WARNING:tensorflow:From /usr/local/lib/python3.6/dist-packages/keras/backend/tensorflow_backend.py:223: The name tf.variables_initializer is deprecated. Please use tf.compat.v1.variables_initializer instead.\n",
            "\n"
          ],
          "name": "stdout"
        }
      ]
    },
    {
      "cell_type": "code",
      "metadata": {
        "id": "ZPw1TKFYI5iE",
        "colab_type": "code",
        "colab": {}
      },
      "source": [
        "\n",
        "result = model.output\n",
        "# result = GlobalAveragePooling2D()(result)\n",
        "# add a fully-connected layer\n",
        "# result1 = Dense(256, activation='relu')(result)\n",
        "result = Dense(512, activation='relu')(result)\n",
        "result = Dense(256, activation='relu')(result)\n",
        "sgd = optimizers.SGD(lr=0.01, decay=1e-6, momentum=0.9, nesterov=True)\n",
        "# and a fully connected output/classification layer\n",
        "predictions = Dense(2, activation='sigmoid')(result)"
      ],
      "execution_count": 0,
      "outputs": []
    },
    {
      "cell_type": "code",
      "metadata": {
        "id": "wq7mTslKI9LZ",
        "colab_type": "code",
        "colab": {}
      },
      "source": [
        "inception_transfer = Model(inputs=model.input, outputs=predictions)\n"
      ],
      "execution_count": 0,
      "outputs": []
    },
    {
      "cell_type": "code",
      "metadata": {
        "id": "iO7JnoS8I_SN",
        "colab_type": "code",
        "outputId": "4797578a-6c14-4004-b433-5934b3ecb4d0",
        "colab": {
          "base_uri": "https://localhost:8080/",
          "height": 1000
        }
      },
      "source": [
        "from keras.callbacks import ModelCheckpoint, ReduceLROnPlateau, EarlyStopping\n",
        "\n",
        "checkpoint = ModelCheckpoint(filepath='Penumonia_detector.hdf5', save_best_only=True, save_weights_only=True)\n",
        "lr_reduce = ReduceLROnPlateau(monitor='val_loss', factor=0.3, patience=2, verbose=2, mode='max')\n",
        "early_stop = EarlyStopping(monitor='val_loss', min_delta=0.1, patience=1, mode='min')\n",
        "\n",
        "inception_transfer.compile(loss='categorical_crossentropy',\n",
        "              optimizer='sgd',\n",
        "              metrics=['accuracy'])\n",
        "inception_transfer.summary()"
      ],
      "execution_count": 0,
      "outputs": [
        {
          "output_type": "stream",
          "text": [
            "WARNING:tensorflow:From /usr/local/lib/python3.6/dist-packages/keras/optimizers.py:793: The name tf.train.Optimizer is deprecated. Please use tf.compat.v1.train.Optimizer instead.\n",
            "\n",
            "WARNING:tensorflow:From /usr/local/lib/python3.6/dist-packages/keras/backend/tensorflow_backend.py:3576: The name tf.log is deprecated. Please use tf.math.log instead.\n",
            "\n",
            "Model: \"model_1\"\n",
            "_________________________________________________________________\n",
            "Layer (type)                 Output Shape              Param #   \n",
            "=================================================================\n",
            "input_1 (InputLayer)         (None, 224, 224, 3)       0         \n",
            "_________________________________________________________________\n",
            "block1_conv1 (Conv2D)        (None, 224, 224, 64)      1792      \n",
            "_________________________________________________________________\n",
            "block1_conv2 (Conv2D)        (None, 224, 224, 64)      36928     \n",
            "_________________________________________________________________\n",
            "block1_pool (MaxPooling2D)   (None, 112, 112, 64)      0         \n",
            "_________________________________________________________________\n",
            "block2_conv1 (Conv2D)        (None, 112, 112, 128)     73856     \n",
            "_________________________________________________________________\n",
            "block2_conv2 (Conv2D)        (None, 112, 112, 128)     147584    \n",
            "_________________________________________________________________\n",
            "block2_pool (MaxPooling2D)   (None, 56, 56, 128)       0         \n",
            "_________________________________________________________________\n",
            "block3_conv1 (Conv2D)        (None, 56, 56, 256)       295168    \n",
            "_________________________________________________________________\n",
            "block3_conv2 (Conv2D)        (None, 56, 56, 256)       590080    \n",
            "_________________________________________________________________\n",
            "block3_conv3 (Conv2D)        (None, 56, 56, 256)       590080    \n",
            "_________________________________________________________________\n",
            "block3_pool (MaxPooling2D)   (None, 28, 28, 256)       0         \n",
            "_________________________________________________________________\n",
            "block4_conv1 (Conv2D)        (None, 28, 28, 512)       1180160   \n",
            "_________________________________________________________________\n",
            "block4_conv2 (Conv2D)        (None, 28, 28, 512)       2359808   \n",
            "_________________________________________________________________\n",
            "block4_conv3 (Conv2D)        (None, 28, 28, 512)       2359808   \n",
            "_________________________________________________________________\n",
            "block4_pool (MaxPooling2D)   (None, 14, 14, 512)       0         \n",
            "_________________________________________________________________\n",
            "block5_conv1 (Conv2D)        (None, 14, 14, 512)       2359808   \n",
            "_________________________________________________________________\n",
            "block5_conv2 (Conv2D)        (None, 14, 14, 512)       2359808   \n",
            "_________________________________________________________________\n",
            "block5_conv3 (Conv2D)        (None, 14, 14, 512)       2359808   \n",
            "_________________________________________________________________\n",
            "block5_pool (MaxPooling2D)   (None, 7, 7, 512)         0         \n",
            "_________________________________________________________________\n",
            "flatten (Flatten)            (None, 25088)             0         \n",
            "_________________________________________________________________\n",
            "fc1 (Dense)                  (None, 4096)              102764544 \n",
            "_________________________________________________________________\n",
            "fc2 (Dense)                  (None, 4096)              16781312  \n",
            "_________________________________________________________________\n",
            "predictions (Dense)          (None, 1000)              4097000   \n",
            "_________________________________________________________________\n",
            "dense_1 (Dense)              (None, 512)               512512    \n",
            "_________________________________________________________________\n",
            "dense_2 (Dense)              (None, 256)               131328    \n",
            "_________________________________________________________________\n",
            "dense_3 (Dense)              (None, 2)                 514       \n",
            "=================================================================\n",
            "Total params: 139,001,898\n",
            "Trainable params: 139,001,898\n",
            "Non-trainable params: 0\n",
            "_________________________________________________________________\n"
          ],
          "name": "stdout"
        }
      ]
    },
    {
      "cell_type": "code",
      "metadata": {
        "id": "YAwf_mZ_JCLN",
        "colab_type": "code",
        "outputId": "2ebf27af-328d-4c61-b585-fdc69c8f8099",
        "colab": {
          "base_uri": "https://localhost:8080/",
          "height": 1000
        }
      },
      "source": [
        "history_pretrained = inception_transfer.fit_generator(\n",
        "    train_generator,\n",
        "    epochs=30, shuffle = True, verbose = 1, validation_data = test_generator, callbacks=[checkpoint, lr_reduce])"
      ],
      "execution_count": 0,
      "outputs": [
        {
          "output_type": "stream",
          "text": [
            "WARNING:tensorflow:From /usr/local/lib/python3.6/dist-packages/tensorflow_core/python/ops/math_grad.py:1424: where (from tensorflow.python.ops.array_ops) is deprecated and will be removed in a future version.\n",
            "Instructions for updating:\n",
            "Use tf.where in 2.0, which has the same broadcast rule as np.where\n",
            "WARNING:tensorflow:From /usr/local/lib/python3.6/dist-packages/keras/backend/tensorflow_backend.py:1033: The name tf.assign_add is deprecated. Please use tf.compat.v1.assign_add instead.\n",
            "\n",
            "WARNING:tensorflow:From /usr/local/lib/python3.6/dist-packages/keras/backend/tensorflow_backend.py:1020: The name tf.assign is deprecated. Please use tf.compat.v1.assign instead.\n",
            "\n",
            "Epoch 1/30\n",
            "164/164 [==============================] - 1932s 12s/step - loss: 0.6401 - acc: 0.7383 - val_loss: 0.6632 - val_acc: 0.6219\n",
            "Epoch 2/30\n",
            "164/164 [==============================] - 107s 651ms/step - loss: 0.5851 - acc: 0.7421 - val_loss: 0.6762 - val_acc: 0.6219\n",
            "Epoch 3/30\n",
            "164/164 [==============================] - 111s 677ms/step - loss: 0.5399 - acc: 0.7417 - val_loss: 0.6533 - val_acc: 0.6219\n",
            "Epoch 4/30\n",
            "164/164 [==============================] - 112s 682ms/step - loss: 0.4794 - acc: 0.7417 - val_loss: 0.5844 - val_acc: 0.6219\n",
            "\n",
            "Epoch 00004: ReduceLROnPlateau reducing learning rate to 0.0029999999329447745.\n",
            "Epoch 5/30\n",
            "164/164 [==============================] - 110s 671ms/step - loss: 0.4267 - acc: 0.7413 - val_loss: 0.5730 - val_acc: 0.6219\n",
            "Epoch 6/30\n",
            "164/164 [==============================] - 111s 678ms/step - loss: 0.3978 - acc: 0.7413 - val_loss: 0.5527 - val_acc: 0.6219\n",
            "\n",
            "Epoch 00006: ReduceLROnPlateau reducing learning rate to 0.0009000000078231095.\n",
            "Epoch 7/30\n",
            "164/164 [==============================] - 111s 676ms/step - loss: 0.3741 - acc: 0.7409 - val_loss: 0.5312 - val_acc: 0.6219\n",
            "Epoch 8/30\n",
            "164/164 [==============================] - 111s 675ms/step - loss: 0.3641 - acc: 0.7409 - val_loss: 0.5197 - val_acc: 0.6219\n",
            "\n",
            "Epoch 00008: ReduceLROnPlateau reducing learning rate to 0.00026999999536201356.\n",
            "Epoch 9/30\n",
            "164/164 [==============================] - 111s 677ms/step - loss: 0.3562 - acc: 0.7413 - val_loss: 0.5151 - val_acc: 0.6219\n",
            "Epoch 10/30\n",
            "164/164 [==============================] - 110s 674ms/step - loss: 0.3515 - acc: 0.7426 - val_loss: 0.5217 - val_acc: 0.6219\n",
            "\n",
            "Epoch 00010: ReduceLROnPlateau reducing learning rate to 8.099999686237424e-05.\n",
            "Epoch 11/30\n",
            "164/164 [==============================] - 111s 679ms/step - loss: 0.3507 - acc: 0.7401 - val_loss: 0.5140 - val_acc: 0.6219\n",
            "Epoch 12/30\n",
            "164/164 [==============================] - 111s 678ms/step - loss: 0.3479 - acc: 0.7421 - val_loss: 0.5104 - val_acc: 0.6219\n",
            "\n",
            "Epoch 00012: ReduceLROnPlateau reducing learning rate to 2.429999949526973e-05.\n",
            "Epoch 13/30\n",
            "164/164 [==============================] - 111s 676ms/step - loss: 0.3468 - acc: 0.7426 - val_loss: 0.5116 - val_acc: 0.6219\n",
            "Epoch 14/30\n",
            "164/164 [==============================] - 111s 675ms/step - loss: 0.3451 - acc: 0.7421 - val_loss: 0.5125 - val_acc: 0.6219\n",
            "\n",
            "Epoch 00014: ReduceLROnPlateau reducing learning rate to 7.289999848580919e-06.\n",
            "Epoch 15/30\n",
            "164/164 [==============================] - 111s 679ms/step - loss: 0.3462 - acc: 0.7413 - val_loss: 0.5128 - val_acc: 0.6219\n",
            "Epoch 16/30\n",
            "164/164 [==============================] - 111s 680ms/step - loss: 0.3457 - acc: 0.7417 - val_loss: 0.5134 - val_acc: 0.6219\n",
            "\n",
            "Epoch 00016: ReduceLROnPlateau reducing learning rate to 2.186999927289435e-06.\n",
            "Epoch 17/30\n",
            "164/164 [==============================] - 110s 672ms/step - loss: 0.3451 - acc: 0.7421 - val_loss: 0.5137 - val_acc: 0.6219\n",
            "Epoch 18/30\n",
            "164/164 [==============================] - 110s 673ms/step - loss: 0.3467 - acc: 0.7417 - val_loss: 0.5131 - val_acc: 0.6219\n",
            "\n",
            "Epoch 00018: ReduceLROnPlateau reducing learning rate to 6.560999509019894e-07.\n",
            "Epoch 19/30\n",
            "164/164 [==============================] - 110s 673ms/step - loss: 0.3465 - acc: 0.7409 - val_loss: 0.5131 - val_acc: 0.6219\n",
            "Epoch 20/30\n",
            "164/164 [==============================] - 111s 676ms/step - loss: 0.3464 - acc: 0.7409 - val_loss: 0.5133 - val_acc: 0.6219\n",
            "\n",
            "Epoch 00020: ReduceLROnPlateau reducing learning rate to 1.9682997844938655e-07.\n",
            "Epoch 21/30\n",
            "164/164 [==============================] - 110s 672ms/step - loss: 0.3459 - acc: 0.7421 - val_loss: 0.5133 - val_acc: 0.6219\n",
            "Epoch 22/30\n",
            "164/164 [==============================] - 110s 673ms/step - loss: 0.3469 - acc: 0.7421 - val_loss: 0.5132 - val_acc: 0.6219\n",
            "\n",
            "Epoch 00022: ReduceLROnPlateau reducing learning rate to 5.9048991829513396e-08.\n",
            "Epoch 23/30\n",
            "164/164 [==============================] - 111s 675ms/step - loss: 0.3478 - acc: 0.7417 - val_loss: 0.5132 - val_acc: 0.6219\n",
            "Epoch 24/30\n",
            "164/164 [==============================] - 111s 674ms/step - loss: 0.3468 - acc: 0.7413 - val_loss: 0.5132 - val_acc: 0.6219\n",
            "\n",
            "Epoch 00024: ReduceLROnPlateau reducing learning rate to 1.771469797517966e-08.\n",
            "Epoch 25/30\n",
            "164/164 [==============================] - 110s 672ms/step - loss: 0.3456 - acc: 0.7417 - val_loss: 0.5132 - val_acc: 0.6219\n",
            "Epoch 26/30\n",
            "164/164 [==============================] - 111s 676ms/step - loss: 0.3470 - acc: 0.7405 - val_loss: 0.5132 - val_acc: 0.6219\n",
            "\n",
            "Epoch 00026: ReduceLROnPlateau reducing learning rate to 5.314409179391077e-09.\n",
            "Epoch 27/30\n",
            "164/164 [==============================] - 111s 675ms/step - loss: 0.3474 - acc: 0.7413 - val_loss: 0.5132 - val_acc: 0.6219\n",
            "Epoch 28/30\n",
            "164/164 [==============================] - 111s 677ms/step - loss: 0.3464 - acc: 0.7417 - val_loss: 0.5132 - val_acc: 0.6219\n",
            "\n",
            "Epoch 00028: ReduceLROnPlateau reducing learning rate to 1.5943228071080283e-09.\n",
            "Epoch 29/30\n",
            "164/164 [==============================] - 111s 679ms/step - loss: 0.3460 - acc: 0.7413 - val_loss: 0.5132 - val_acc: 0.6219\n",
            "Epoch 30/30\n",
            "164/164 [==============================] - 111s 674ms/step - loss: 0.3465 - acc: 0.7409 - val_loss: 0.5132 - val_acc: 0.6219\n",
            "\n",
            "Epoch 00030: ReduceLROnPlateau reducing learning rate to 4.782968354710703e-10.\n"
          ],
          "name": "stdout"
        }
      ]
    },
    {
      "cell_type": "code",
      "metadata": {
        "id": "CmI4rbXr2E2Q",
        "colab_type": "code",
        "outputId": "c608a4f4-c74f-48c7-e200-72b52586eda0",
        "colab": {
          "base_uri": "https://localhost:8080/",
          "height": 1000
        }
      },
      "source": [
        "import matplotlib.pyplot as plt\n",
        "%matplotlib inline\n",
        "fig, ax = plt.subplots(1, 2, figsize=(10, 3))\n",
        "ax = ax.ravel()\n",
        "for i, met in enumerate(['acc', 'loss']):\n",
        "    ax[i].plot(history_pretrained.history[met])\n",
        "    ax[i].plot(history_pretrained.history['val_' + met])\n",
        "    ax[i].set_title('Model {}'.format(met))\n",
        "    ax[i].set_xlabel('epochs')\n",
        "    ax[i].set_ylabel(met)\n",
        "    ax[i].legend(['train', 'val'])\n",
        "inception_transfer.summary()"
      ],
      "execution_count": 0,
      "outputs": [
        {
          "output_type": "stream",
          "text": [
            "Model: \"model_1\"\n",
            "_________________________________________________________________\n",
            "Layer (type)                 Output Shape              Param #   \n",
            "=================================================================\n",
            "input_1 (InputLayer)         (None, 224, 224, 3)       0         \n",
            "_________________________________________________________________\n",
            "block1_conv1 (Conv2D)        (None, 224, 224, 64)      1792      \n",
            "_________________________________________________________________\n",
            "block1_conv2 (Conv2D)        (None, 224, 224, 64)      36928     \n",
            "_________________________________________________________________\n",
            "block1_pool (MaxPooling2D)   (None, 112, 112, 64)      0         \n",
            "_________________________________________________________________\n",
            "block2_conv1 (Conv2D)        (None, 112, 112, 128)     73856     \n",
            "_________________________________________________________________\n",
            "block2_conv2 (Conv2D)        (None, 112, 112, 128)     147584    \n",
            "_________________________________________________________________\n",
            "block2_pool (MaxPooling2D)   (None, 56, 56, 128)       0         \n",
            "_________________________________________________________________\n",
            "block3_conv1 (Conv2D)        (None, 56, 56, 256)       295168    \n",
            "_________________________________________________________________\n",
            "block3_conv2 (Conv2D)        (None, 56, 56, 256)       590080    \n",
            "_________________________________________________________________\n",
            "block3_conv3 (Conv2D)        (None, 56, 56, 256)       590080    \n",
            "_________________________________________________________________\n",
            "block3_pool (MaxPooling2D)   (None, 28, 28, 256)       0         \n",
            "_________________________________________________________________\n",
            "block4_conv1 (Conv2D)        (None, 28, 28, 512)       1180160   \n",
            "_________________________________________________________________\n",
            "block4_conv2 (Conv2D)        (None, 28, 28, 512)       2359808   \n",
            "_________________________________________________________________\n",
            "block4_conv3 (Conv2D)        (None, 28, 28, 512)       2359808   \n",
            "_________________________________________________________________\n",
            "block4_pool (MaxPooling2D)   (None, 14, 14, 512)       0         \n",
            "_________________________________________________________________\n",
            "block5_conv1 (Conv2D)        (None, 14, 14, 512)       2359808   \n",
            "_________________________________________________________________\n",
            "block5_conv2 (Conv2D)        (None, 14, 14, 512)       2359808   \n",
            "_________________________________________________________________\n",
            "block5_conv3 (Conv2D)        (None, 14, 14, 512)       2359808   \n",
            "_________________________________________________________________\n",
            "block5_pool (MaxPooling2D)   (None, 7, 7, 512)         0         \n",
            "_________________________________________________________________\n",
            "flatten (Flatten)            (None, 25088)             0         \n",
            "_________________________________________________________________\n",
            "fc1 (Dense)                  (None, 4096)              102764544 \n",
            "_________________________________________________________________\n",
            "fc2 (Dense)                  (None, 4096)              16781312  \n",
            "_________________________________________________________________\n",
            "predictions (Dense)          (None, 1000)              4097000   \n",
            "_________________________________________________________________\n",
            "dense_1 (Dense)              (None, 512)               512512    \n",
            "_________________________________________________________________\n",
            "dense_2 (Dense)              (None, 256)               131328    \n",
            "_________________________________________________________________\n",
            "dense_3 (Dense)              (None, 2)                 514       \n",
            "=================================================================\n",
            "Total params: 139,001,898\n",
            "Trainable params: 139,001,898\n",
            "Non-trainable params: 0\n",
            "_________________________________________________________________\n"
          ],
          "name": "stdout"
        },
        {
          "output_type": "display_data",
          "data": {
            "image/png": "[encoded data removed]",
            "text/plain": [
              "<Figure size 720x216 with 2 Axes>"
            ]
          },
          "metadata": {
            "tags": []
          }
        }
      ]
    },
    {
      "cell_type": "code",
      "metadata": {
        "id": "VANH1LZIW3Yu",
        "colab_type": "code",
        "outputId": "b23b7d2a-edc7-46aa-a86e-227b6e932ab5",
        "colab": {
          "base_uri": "https://localhost:8080/",
          "height": 1000
        }
      },
      "source": [
        "from keras.applications.vgg19 import VGG19\n",
        "model = VGG19(include_top=True, weights='imagenet', input_tensor=None, input_shape=None, pooling=None, classes=1000)\n",
        "\n",
        "result = model.output\n",
        "result = Dense(512, activation='relu')(result)\n",
        "result = Dense(256, activation='relu')(result)\n",
        "sgd = optimizers.SGD(lr=0.01, decay=1e-6, momentum=0.9, nesterov=True)\n",
        "predictions = Dense(2, activation='sigmoid')(result)\n",
        "inception_transfer = Model(inputs=model.input, outputs=predictions)\n",
        "from keras.callbacks import ModelCheckpoint, ReduceLROnPlateau, EarlyStopping\n",
        "\n",
        "checkpoint = ModelCheckpoint(filepath='Penumonia_detector_checkpoint.hdf5', save_best_only=True, save_weights_only=True)\n",
        "lr_reduce = ReduceLROnPlateau(monitor='val_loss', factor=0.3, patience=2, verbose=2, mode='max')\n",
        "early_stop = EarlyStopping(monitor='val_loss', min_delta=0.1, patience=1, mode='min')\n",
        "\n",
        "inception_transfer.compile(loss='categorical_crossentropy',\n",
        "              optimizer='sgd',\n",
        "              metrics=['accuracy'])\n",
        "inception_transfer.summary()\n",
        "\n",
        "history_pretrained = inception_transfer.fit_generator(\n",
        "    train_generator,\n",
        "    epochs=30, shuffle = True, verbose = 1, validation_data = test_generator, callbacks=[checkpoint, lr_reduce])\n",
        "#graphs\n",
        "fig, ax = plt.subplots(1, 2, figsize=(10, 3))\n",
        "ax = ax.ravel()\n",
        "for i, met in enumerate(['acc', 'loss']):\n",
        "    ax[i].plot(history_pretrained.history[met])\n",
        "    ax[i].plot(history_pretrained.history['val_' + met])\n",
        "    ax[i].set_title('Model {}'.format(met))\n",
        "    ax[i].set_xlabel('epochs')\n",
        "    ax[i].set_ylabel(met)\n",
        "    ax[i].legend(['train', 'val'])"
      ],
      "execution_count": 0,
      "outputs": [
        {
          "output_type": "stream",
          "text": [
            "Downloading data from https://github.com/fchollet/deep-learning-models/releases/download/v0.1/vgg19_weights_tf_dim_ordering_tf_kernels.h5\n",
            "574717952/574710816 [==============================] - 13s 0us/step\n",
            "Model: \"model_2\"\n",
            "_________________________________________________________________\n",
            "Layer (type)                 Output Shape              Param #   \n",
            "=================================================================\n",
            "input_2 (InputLayer)         (None, 224, 224, 3)       0         \n",
            "_________________________________________________________________\n",
            "block1_conv1 (Conv2D)        (None, 224, 224, 64)      1792      \n",
            "_________________________________________________________________\n",
            "block1_conv2 (Conv2D)        (None, 224, 224, 64)      36928     \n",
            "_________________________________________________________________\n",
            "block1_pool (MaxPooling2D)   (None, 112, 112, 64)      0         \n",
            "_________________________________________________________________\n",
            "block2_conv1 (Conv2D)        (None, 112, 112, 128)     73856     \n",
            "_________________________________________________________________\n",
            "block2_conv2 (Conv2D)        (None, 112, 112, 128)     147584    \n",
            "_________________________________________________________________\n",
            "block2_pool (MaxPooling2D)   (None, 56, 56, 128)       0         \n",
            "_________________________________________________________________\n",
            "block3_conv1 (Conv2D)        (None, 56, 56, 256)       295168    \n",
            "_________________________________________________________________\n",
            "block3_conv2 (Conv2D)        (None, 56, 56, 256)       590080    \n",
            "_________________________________________________________________\n",
            "block3_conv3 (Conv2D)        (None, 56, 56, 256)       590080    \n",
            "_________________________________________________________________\n",
            "block3_conv4 (Conv2D)        (None, 56, 56, 256)       590080    \n",
            "_________________________________________________________________\n",
            "block3_pool (MaxPooling2D)   (None, 28, 28, 256)       0         \n",
            "_________________________________________________________________\n",
            "block4_conv1 (Conv2D)        (None, 28, 28, 512)       1180160   \n",
            "_________________________________________________________________\n",
            "block4_conv2 (Conv2D)        (None, 28, 28, 512)       2359808   \n",
            "_________________________________________________________________\n",
            "block4_conv3 (Conv2D)        (None, 28, 28, 512)       2359808   \n",
            "_________________________________________________________________\n",
            "block4_conv4 (Conv2D)        (None, 28, 28, 512)       2359808   \n",
            "_________________________________________________________________\n",
            "block4_pool (MaxPooling2D)   (None, 14, 14, 512)       0         \n",
            "_________________________________________________________________\n",
            "block5_conv1 (Conv2D)        (None, 14, 14, 512)       2359808   \n",
            "_________________________________________________________________\n",
            "block5_conv2 (Conv2D)        (None, 14, 14, 512)       2359808   \n",
            "_________________________________________________________________\n",
            "block5_conv3 (Conv2D)        (None, 14, 14, 512)       2359808   \n",
            "_________________________________________________________________\n",
            "block5_conv4 (Conv2D)        (None, 14, 14, 512)       2359808   \n",
            "_________________________________________________________________\n",
            "block5_pool (MaxPooling2D)   (None, 7, 7, 512)         0         \n",
            "_________________________________________________________________\n",
            "flatten (Flatten)            (None, 25088)             0         \n",
            "_________________________________________________________________\n",
            "fc1 (Dense)                  (None, 4096)              102764544 \n",
            "_________________________________________________________________\n",
            "fc2 (Dense)                  (None, 4096)              16781312  \n",
            "_________________________________________________________________\n",
            "predictions (Dense)          (None, 1000)              4097000   \n",
            "_________________________________________________________________\n",
            "dense_4 (Dense)              (None, 512)               512512    \n",
            "_________________________________________________________________\n",
            "dense_5 (Dense)              (None, 256)               131328    \n",
            "_________________________________________________________________\n",
            "dense_6 (Dense)              (None, 2)                 514       \n",
            "=================================================================\n",
            "Total params: 144,311,594\n",
            "Trainable params: 144,311,594\n",
            "Non-trainable params: 0\n",
            "_________________________________________________________________\n",
            "Epoch 1/30\n",
            "164/164 [==============================] - 118s 719ms/step - loss: 0.6431 - acc: 0.7379 - val_loss: 0.6631 - val_acc: 0.6219\n",
            "Epoch 2/30\n",
            "164/164 [==============================] - 112s 683ms/step - loss: 0.5762 - acc: 0.7409 - val_loss: 0.6103 - val_acc: 0.6219\n",
            "Epoch 3/30\n",
            "164/164 [==============================] - 114s 694ms/step - loss: 0.4962 - acc: 0.7413 - val_loss: 0.6638 - val_acc: 0.6219\n",
            "Epoch 4/30\n",
            "164/164 [==============================] - 114s 694ms/step - loss: 0.4157 - acc: 0.7409 - val_loss: 0.8877 - val_acc: 0.6219\n",
            "Epoch 5/30\n",
            "164/164 [==============================] - 114s 694ms/step - loss: 0.3588 - acc: 0.7920 - val_loss: 0.4496 - val_acc: 0.8250\n",
            "Epoch 6/30\n",
            "164/164 [==============================] - 114s 694ms/step - loss: 0.2995 - acc: 0.9024 - val_loss: 0.4749 - val_acc: 0.8688\n",
            "\n",
            "Epoch 00006: ReduceLROnPlateau reducing learning rate to 0.0029999999329447745.\n",
            "Epoch 7/30\n",
            "164/164 [==============================] - 114s 694ms/step - loss: 0.2239 - acc: 0.9527 - val_loss: 0.4005 - val_acc: 0.8891\n",
            "Epoch 8/30\n",
            "164/164 [==============================] - 114s 693ms/step - loss: 0.2116 - acc: 0.9510 - val_loss: 0.3671 - val_acc: 0.9172\n",
            "\n",
            "Epoch 00008: ReduceLROnPlateau reducing learning rate to 0.0009000000078231095.\n",
            "Epoch 9/30\n",
            "164/164 [==============================] - 114s 695ms/step - loss: 0.1952 - acc: 0.9613 - val_loss: 0.3957 - val_acc: 0.9016\n",
            "Epoch 10/30\n",
            "164/164 [==============================] - 114s 694ms/step - loss: 0.1876 - acc: 0.9655 - val_loss: 0.4132 - val_acc: 0.8953\n",
            "\n",
            "Epoch 00010: ReduceLROnPlateau reducing learning rate to 0.00026999999536201356.\n",
            "Epoch 11/30\n",
            "164/164 [==============================] - 114s 694ms/step - loss: 0.1845 - acc: 0.9655 - val_loss: 0.3703 - val_acc: 0.9125\n",
            "Epoch 12/30\n",
            "164/164 [==============================] - 113s 692ms/step - loss: 0.1854 - acc: 0.9655 - val_loss: 0.3898 - val_acc: 0.9062\n",
            "\n",
            "Epoch 00012: ReduceLROnPlateau reducing learning rate to 8.099999686237424e-05.\n",
            "Epoch 13/30\n",
            "164/164 [==============================] - 112s 685ms/step - loss: 0.1808 - acc: 0.9674 - val_loss: 0.3543 - val_acc: 0.9109\n",
            "Epoch 14/30\n",
            "164/164 [==============================] - 113s 691ms/step - loss: 0.1800 - acc: 0.9670 - val_loss: 0.3621 - val_acc: 0.9094\n",
            "\n",
            "Epoch 00014: ReduceLROnPlateau reducing learning rate to 2.429999949526973e-05.\n",
            "Epoch 15/30\n",
            "164/164 [==============================] - 116s 705ms/step - loss: 0.1811 - acc: 0.9672 - val_loss: 0.3649 - val_acc: 0.9094\n",
            "Epoch 16/30\n",
            "164/164 [==============================] - 115s 700ms/step - loss: 0.1790 - acc: 0.9703 - val_loss: 0.3683 - val_acc: 0.9109\n",
            "\n",
            "Epoch 00016: ReduceLROnPlateau reducing learning rate to 7.289999848580919e-06.\n",
            "Epoch 17/30\n",
            "164/164 [==============================] - 115s 701ms/step - loss: 0.1829 - acc: 0.9678 - val_loss: 0.3670 - val_acc: 0.9109\n",
            "Epoch 18/30\n",
            "164/164 [==============================] - 115s 703ms/step - loss: 0.1812 - acc: 0.9682 - val_loss: 0.3664 - val_acc: 0.9109\n",
            "\n",
            "Epoch 00018: ReduceLROnPlateau reducing learning rate to 2.186999927289435e-06.\n",
            "Epoch 19/30\n",
            "164/164 [==============================] - 115s 699ms/step - loss: 0.1809 - acc: 0.9670 - val_loss: 0.3662 - val_acc: 0.9094\n",
            "Epoch 20/30\n",
            "164/164 [==============================] - 115s 703ms/step - loss: 0.1770 - acc: 0.9689 - val_loss: 0.3659 - val_acc: 0.9094\n",
            "\n",
            "Epoch 00020: ReduceLROnPlateau reducing learning rate to 6.560999509019894e-07.\n",
            "Epoch 21/30\n",
            "164/164 [==============================] - 115s 699ms/step - loss: 0.1796 - acc: 0.9695 - val_loss: 0.3656 - val_acc: 0.9094\n",
            "Epoch 22/30\n",
            "164/164 [==============================] - 115s 700ms/step - loss: 0.1798 - acc: 0.9683 - val_loss: 0.3656 - val_acc: 0.9094\n",
            "\n",
            "Epoch 00022: ReduceLROnPlateau reducing learning rate to 1.9682997844938655e-07.\n",
            "Epoch 23/30\n",
            "164/164 [==============================] - 114s 697ms/step - loss: 0.1779 - acc: 0.9695 - val_loss: 0.3655 - val_acc: 0.9094\n",
            "Epoch 24/30\n",
            "164/164 [==============================] - 114s 698ms/step - loss: 0.1775 - acc: 0.9695 - val_loss: 0.3655 - val_acc: 0.9094\n",
            "\n",
            "Epoch 00024: ReduceLROnPlateau reducing learning rate to 5.9048991829513396e-08.\n",
            "Epoch 25/30\n",
            "164/164 [==============================] - 115s 701ms/step - loss: 0.1791 - acc: 0.9693 - val_loss: 0.3655 - val_acc: 0.9094\n",
            "Epoch 26/30\n",
            "164/164 [==============================] - 115s 699ms/step - loss: 0.1786 - acc: 0.9687 - val_loss: 0.3655 - val_acc: 0.9094\n",
            "\n",
            "Epoch 00026: ReduceLROnPlateau reducing learning rate to 1.771469797517966e-08.\n",
            "Epoch 27/30\n",
            "164/164 [==============================] - 117s 712ms/step - loss: 0.1812 - acc: 0.9674 - val_loss: 0.3655 - val_acc: 0.9094\n",
            "Epoch 28/30\n",
            "164/164 [==============================] - 116s 705ms/step - loss: 0.1785 - acc: 0.9689 - val_loss: 0.3655 - val_acc: 0.9094\n",
            "\n",
            "Epoch 00028: ReduceLROnPlateau reducing learning rate to 5.314409179391077e-09.\n",
            "Epoch 29/30\n",
            "164/164 [==============================] - 114s 697ms/step - loss: 0.1808 - acc: 0.9687 - val_loss: 0.3655 - val_acc: 0.9094\n",
            "Epoch 30/30\n",
            "164/164 [==============================] - 114s 695ms/step - loss: 0.1813 - acc: 0.9676 - val_loss: 0.3655 - val_acc: 0.9094\n",
            "\n",
            "Epoch 00030: ReduceLROnPlateau reducing learning rate to 1.5943228071080283e-09.\n"
          ],
          "name": "stdout"
        },
        {
          "output_type": "display_data",
          "data": {
            "image/png": "[encoded data removed]",
            "text/plain": [
              "<Figure size 720x216 with 2 Axes>"
            ]
          },
          "metadata": {
            "tags": []
          }
        }
      ]
    },
    {
      "cell_type": "code",
      "metadata": {
        "id": "taCq1GGxsxBR",
        "colab_type": "code",
        "colab": {}
      },
      "source": [
        ""
      ],
      "execution_count": 0,
      "outputs": []
    }
  ]
}