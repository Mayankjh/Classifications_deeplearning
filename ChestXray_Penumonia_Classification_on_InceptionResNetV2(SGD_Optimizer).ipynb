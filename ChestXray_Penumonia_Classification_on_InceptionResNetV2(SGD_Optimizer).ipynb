{
  "nbformat": 4,
  "nbformat_minor": 0,
  "metadata": {
    "colab": {
      "name": "ChestXray_Penumonia_Classification_on_InceptionResNetV2(SGD Optimizer).ipynb",
      "provenance": [],
      "collapsed_sections": [],
      "include_colab_link": true
    },
    "kernelspec": {
      "name": "python3",
      "display_name": "Python 3"
    },
    "accelerator": "GPU"
  },
  "cells": [
    {
      "cell_type": "markdown",
      "metadata": {
        "id": "view-in-github",
        "colab_type": "text"
      },
      "source": [
        "<a href=\"https://colab.research.google.com/github/Mayankjh/Classifications_deeplearning/blob/master/ChestXray_Penumonia_Classification_on_InceptionResNetV2(SGD_Optimizer).ipynb\" target=\"_parent\"><img src=\"https://colab.research.google.com/assets/colab-badge.svg\" alt=\"Open In Colab\"/></a>"
      ]
    },
    {
      "cell_type": "code",
      "metadata": {
        "id": "z0OuAzplG-Ai",
        "colab_type": "code",
        "outputId": "25ade852-6027-4549-e2b6-5edc16bca322",
        "colab": {
          "base_uri": "https://localhost:8080/",
          "height": 121
        }
      },
      "source": [
        "from google.colab import drive\n",
        "drive.mount('/content/drive')"
      ],
      "execution_count": 1,
      "outputs": [
        {
          "output_type": "stream",
          "text": [
            "Go to this URL in a browser: https://accounts.google.com/o/oauth2/auth?client_id=947318989803-6bn6qk8qdgf4n4g3pfee6491hc0brc4i.apps.googleusercontent.com&redirect_uri=urn%3Aietf%3Awg%3Aoauth%3A2.0%3Aoob&scope=email%20https%3A%2F%2Fwww.googleapis.com%2Fauth%2Fdocs.test%20https%3A%2F%2Fwww.googleapis.com%2Fauth%2Fdrive%20https%3A%2F%2Fwww.googleapis.com%2Fauth%2Fdrive.photos.readonly%20https%3A%2F%2Fwww.googleapis.com%2Fauth%2Fpeopleapi.readonly&response_type=code\n",
            "\n",
            "Enter your authorization code:\n",
            "··········\n",
            "Mounted at /content/drive\n"
          ],
          "name": "stdout"
        }
      ]
    },
    {
      "cell_type": "code",
      "metadata": {
        "id": "Fjb1xsntG-j4",
        "colab_type": "code",
        "outputId": "07783789-d48f-407b-b80e-fb84e5659722",
        "colab": {
          "base_uri": "https://localhost:8080/",
          "height": 34
        }
      },
      "source": [
        "ls drive/'My Drive'/chest_xray1"
      ],
      "execution_count": 2,
      "outputs": [
        {
          "output_type": "stream",
          "text": [
            "\u001b[0m\u001b[01;34mtest\u001b[0m/  \u001b[01;34mtrain\u001b[0m/  \u001b[01;34mval\u001b[0m/\n"
          ],
          "name": "stdout"
        }
      ]
    },
    {
      "cell_type": "code",
      "metadata": {
        "id": "mIXwtGMlHOqi",
        "colab_type": "code",
        "outputId": "16023ad1-6460-4622-f001-fed93774f0fc",
        "colab": {
          "base_uri": "https://localhost:8080/",
          "height": 50
        }
      },
      "source": [
        "import numpy as np # linear algebra\n",
        "import pandas as pd # data processing, CSV file I/O (e.g. pd.read_csv)\n",
        "\n",
        "# Input data files are available in the \"../input/\" directory.\n",
        "# For example, running this (by clicking run or pressing Shift+Enter) will list the files in the input directory\n",
        "\n",
        "import os\n",
        "print(os.listdir(\"drive/My Drive/chest_xray1\"))\n",
        "\n",
        "from os import listdir, makedirs\n",
        "from os.path import join, exists, expanduser\n",
        "\n",
        "from keras.applications.inception_v3 import InceptionV3\n",
        "from keras import applications\n",
        "from keras.preprocessing.image import ImageDataGenerator\n",
        "from keras import optimizers\n",
        "from keras.models import Sequential, Model, load_model\n",
        "from keras.layers import Dense, GlobalAveragePooling2D\n",
        "from keras.layers import Activation, Dropout, Flatten, Dense\n",
        "from keras import backend as K\n",
        "import tensorflow as tf\n",
        "from keras.utils.data_utils import Sequence\n",
        "import sys\n",
        "from PIL import *\n",
        "sys.modules['Image'] = Image \n",
        "print(os.listdir(\"drive/My Drive/chest_xray1/train\"))"
      ],
      "execution_count": 4,
      "outputs": [
        {
          "output_type": "stream",
          "text": [
            "['test', 'train', 'val', '.ipynb_checkpoints']\n",
            "['NORMAL', 'PNEUMONIA']\n"
          ],
          "name": "stdout"
        }
      ]
    },
    {
      "cell_type": "code",
      "metadata": {
        "id": "dDryNjXOIF5g",
        "colab_type": "code",
        "colab": {}
      },
      "source": [
        "img_width, img_height = 224,224\n",
        "train_data = 'drive/My Drive/chest_xray1/train'\n",
        "test_data = 'drive/My Drive/chest_xray1/test'\n",
        "# val_data = 'drive/My Drive/chest_xray1/val'"
      ],
      "execution_count": 0,
      "outputs": []
    },
    {
      "cell_type": "code",
      "metadata": {
        "id": "5W_OgxkZIQel",
        "colab_type": "code",
        "outputId": "36d7996f-9ac7-4a89-b193-6ab136f91337",
        "colab": {
          "base_uri": "https://localhost:8080/",
          "height": 50
        }
      },
      "source": [
        "from keras.preprocessing.image import ImageDataGenerator\n",
        "train_datagen = ImageDataGenerator(\n",
        "    rescale=1. / 255,\n",
        "    shear_range=0.2,\n",
        "    zoom_range=0.2,\n",
        "    horizontal_flip=True)\n",
        "\n",
        "test_datagen = ImageDataGenerator(rescale=1. / 255)\n",
        "# val_datagen = ImageDataGenerator(rescale=1. / 255)\n",
        "\n",
        "train_generator = train_datagen.flow_from_directory(\n",
        "    train_data,\n",
        "    target_size=(224,224),\n",
        "    batch_size=32,\n",
        "    class_mode='categorical')\n",
        "\n",
        "test_generator = test_datagen.flow_from_directory(\n",
        "    test_data,\n",
        "    target_size=(224,224),\n",
        "    batch_size=32,\n",
        "    class_mode='categorical')\n",
        "\n",
        "# validation_generator = val_datagen.flow_from_directory(\n",
        "#     val_data,\n",
        "#     target_size=(224,224),\n",
        "#     batch_size=32,\n",
        "#     class_mode='categorical')"
      ],
      "execution_count": 6,
      "outputs": [
        {
          "output_type": "stream",
          "text": [
            "Found 5226 images belonging to 2 classes.\n",
            "Found 640 images belonging to 2 classes.\n"
          ],
          "name": "stdout"
        }
      ]
    },
    {
      "cell_type": "code",
      "metadata": {
        "id": "fNkxLCL1IcJJ",
        "colab_type": "code",
        "outputId": "3c4785e1-41cb-4c5a-d5ff-b575044bc689",
        "colab": {
          "base_uri": "https://localhost:8080/",
          "height": 507
        }
      },
      "source": [
        "#import inception with pre-trained weights. do not include fully #connected layers\n",
        "# InceptionResNetV2(include_top=True, weights='imagenet', input_tensor=None, input_shape=None, pooling=None, classes=1000)\n",
        "\n",
        "from keras.applications.inception_resnet_v2 import InceptionResNetV2\n",
        "from keras.layers import Input\n",
        "from keras import optimizers\n",
        "model = InceptionResNetV2(include_top=False, weights='imagenet', input_tensor=None, input_shape=None, pooling=None, classes=1000)\n"
      ],
      "execution_count": 10,
      "outputs": [
        {
          "output_type": "stream",
          "text": [
            "WARNING:tensorflow:From /usr/local/lib/python3.6/dist-packages/keras/backend/tensorflow_backend.py:66: The name tf.get_default_graph is deprecated. Please use tf.compat.v1.get_default_graph instead.\n",
            "\n",
            "WARNING:tensorflow:From /usr/local/lib/python3.6/dist-packages/keras/backend/tensorflow_backend.py:541: The name tf.placeholder is deprecated. Please use tf.compat.v1.placeholder instead.\n",
            "\n",
            "WARNING:tensorflow:From /usr/local/lib/python3.6/dist-packages/keras/backend/tensorflow_backend.py:4432: The name tf.random_uniform is deprecated. Please use tf.random.uniform instead.\n",
            "\n",
            "WARNING:tensorflow:From /usr/local/lib/python3.6/dist-packages/keras/backend/tensorflow_backend.py:190: The name tf.get_default_session is deprecated. Please use tf.compat.v1.get_default_session instead.\n",
            "\n",
            "WARNING:tensorflow:From /usr/local/lib/python3.6/dist-packages/keras/backend/tensorflow_backend.py:197: The name tf.ConfigProto is deprecated. Please use tf.compat.v1.ConfigProto instead.\n",
            "\n",
            "WARNING:tensorflow:From /usr/local/lib/python3.6/dist-packages/keras/backend/tensorflow_backend.py:203: The name tf.Session is deprecated. Please use tf.compat.v1.Session instead.\n",
            "\n",
            "WARNING:tensorflow:From /usr/local/lib/python3.6/dist-packages/keras/backend/tensorflow_backend.py:207: The name tf.global_variables is deprecated. Please use tf.compat.v1.global_variables instead.\n",
            "\n",
            "WARNING:tensorflow:From /usr/local/lib/python3.6/dist-packages/keras/backend/tensorflow_backend.py:216: The name tf.is_variable_initialized is deprecated. Please use tf.compat.v1.is_variable_initialized instead.\n",
            "\n",
            "WARNING:tensorflow:From /usr/local/lib/python3.6/dist-packages/keras/backend/tensorflow_backend.py:223: The name tf.variables_initializer is deprecated. Please use tf.compat.v1.variables_initializer instead.\n",
            "\n",
            "WARNING:tensorflow:From /usr/local/lib/python3.6/dist-packages/keras/backend/tensorflow_backend.py:2041: The name tf.nn.fused_batch_norm is deprecated. Please use tf.compat.v1.nn.fused_batch_norm instead.\n",
            "\n",
            "WARNING:tensorflow:From /usr/local/lib/python3.6/dist-packages/keras/backend/tensorflow_backend.py:148: The name tf.placeholder_with_default is deprecated. Please use tf.compat.v1.placeholder_with_default instead.\n",
            "\n",
            "WARNING:tensorflow:From /usr/local/lib/python3.6/dist-packages/keras/backend/tensorflow_backend.py:4267: The name tf.nn.max_pool is deprecated. Please use tf.nn.max_pool2d instead.\n",
            "\n",
            "WARNING:tensorflow:From /usr/local/lib/python3.6/dist-packages/keras/backend/tensorflow_backend.py:4271: The name tf.nn.avg_pool is deprecated. Please use tf.nn.avg_pool2d instead.\n",
            "\n",
            "Downloading data from https://github.com/fchollet/deep-learning-models/releases/download/v0.7/inception_resnet_v2_weights_tf_dim_ordering_tf_kernels_notop.h5\n",
            "219062272/219055592 [==============================] - 7s 0us/step\n"
          ],
          "name": "stdout"
        }
      ]
    },
    {
      "cell_type": "code",
      "metadata": {
        "id": "ZPw1TKFYI5iE",
        "colab_type": "code",
        "colab": {}
      },
      "source": [
        "\n",
        "result = model.output\n",
        "result = GlobalAveragePooling2D()(result)\n",
        "# add a fully-connected layer\n",
        "# result1 = Dense(256, activation='relu')(result)\n",
        "result = Dense(512, activation='relu')(result)\n",
        "result = Dense(256, activation='relu')(result)\n",
        "sgd = optimizers.SGD(lr=0.01, decay=1e-6, momentum=0.9, nesterov=True)\n",
        "# and a fully connected output/classification layer\n",
        "predictions = Dense(2, activation='sigmoid')(result)"
      ],
      "execution_count": 0,
      "outputs": []
    },
    {
      "cell_type": "code",
      "metadata": {
        "id": "wq7mTslKI9LZ",
        "colab_type": "code",
        "colab": {}
      },
      "source": [
        "inception_transfer = Model(inputs=model.input, outputs=predictions)\n"
      ],
      "execution_count": 0,
      "outputs": []
    },
    {
      "cell_type": "code",
      "metadata": {
        "id": "iO7JnoS8I_SN",
        "colab_type": "code",
        "outputId": "776a9ae4-36b3-477e-cccf-f0263148be32",
        "colab": {
          "base_uri": "https://localhost:8080/",
          "height": 104
        }
      },
      "source": [
        "from keras.callbacks import ModelCheckpoint, ReduceLROnPlateau, EarlyStopping\n",
        "\n",
        "checkpoint = ModelCheckpoint(filepath='Penumonia_detector_checkpoint.hdf5', save_best_only=True, save_weights_only=True)\n",
        "lr_reduce = ReduceLROnPlateau(monitor='val_loss', factor=0.3, patience=2, verbose=2, mode='max')\n",
        "early_stop = EarlyStopping(monitor='val_loss', min_delta=0.1, patience=1, mode='min')\n",
        "\n",
        "inception_transfer.compile(loss='categorical_crossentropy',\n",
        "              optimizer='sgd',\n",
        "              metrics=['accuracy'])"
      ],
      "execution_count": 13,
      "outputs": [
        {
          "output_type": "stream",
          "text": [
            "WARNING:tensorflow:From /usr/local/lib/python3.6/dist-packages/keras/optimizers.py:793: The name tf.train.Optimizer is deprecated. Please use tf.compat.v1.train.Optimizer instead.\n",
            "\n",
            "WARNING:tensorflow:From /usr/local/lib/python3.6/dist-packages/keras/backend/tensorflow_backend.py:3576: The name tf.log is deprecated. Please use tf.math.log instead.\n",
            "\n"
          ],
          "name": "stdout"
        }
      ]
    },
    {
      "cell_type": "code",
      "metadata": {
        "id": "YAwf_mZ_JCLN",
        "colab_type": "code",
        "outputId": "a102b6e5-d594-4be7-98c1-2d374643ec78",
        "colab": {
          "base_uri": "https://localhost:8080/",
          "height": 1000
        }
      },
      "source": [
        "history_pretrained = inception_transfer.fit_generator(\n",
        "    train_generator,\n",
        "    epochs=30, shuffle = True, verbose = 1, validation_data = test_generator, callbacks=[checkpoint, lr_reduce])"
      ],
      "execution_count": 14,
      "outputs": [
        {
          "output_type": "stream",
          "text": [
            "WARNING:tensorflow:From /usr/local/lib/python3.6/dist-packages/tensorflow_core/python/ops/math_grad.py:1424: where (from tensorflow.python.ops.array_ops) is deprecated and will be removed in a future version.\n",
            "Instructions for updating:\n",
            "Use tf.where in 2.0, which has the same broadcast rule as np.where\n",
            "WARNING:tensorflow:From /usr/local/lib/python3.6/dist-packages/keras/backend/tensorflow_backend.py:1033: The name tf.assign_add is deprecated. Please use tf.compat.v1.assign_add instead.\n",
            "\n",
            "WARNING:tensorflow:From /usr/local/lib/python3.6/dist-packages/keras/backend/tensorflow_backend.py:1020: The name tf.assign is deprecated. Please use tf.compat.v1.assign instead.\n",
            "\n",
            "Epoch 1/30\n",
            "164/164 [==============================] - 2631s 16s/step - loss: 0.3692 - acc: 0.8205 - val_loss: 0.3600 - val_acc: 0.8391\n",
            "Epoch 2/30\n",
            "164/164 [==============================] - 248s 2s/step - loss: 0.1661 - acc: 0.9387 - val_loss: 0.3064 - val_acc: 0.8875\n",
            "Epoch 3/30\n",
            "164/164 [==============================] - 249s 2s/step - loss: 0.1223 - acc: 0.9566 - val_loss: 0.4259 - val_acc: 0.8203\n",
            "Epoch 4/30\n",
            "164/164 [==============================] - 248s 2s/step - loss: 0.0851 - acc: 0.9674 - val_loss: 0.2206 - val_acc: 0.9141\n",
            "Epoch 5/30\n",
            "164/164 [==============================] - 249s 2s/step - loss: 0.0711 - acc: 0.9729 - val_loss: 0.1820 - val_acc: 0.9344\n",
            "\n",
            "Epoch 00005: ReduceLROnPlateau reducing learning rate to 0.0029999999329447745.\n",
            "Epoch 6/30\n",
            "164/164 [==============================] - 248s 2s/step - loss: 0.0536 - acc: 0.9806 - val_loss: 0.1906 - val_acc: 0.9313\n",
            "Epoch 7/30\n",
            "164/164 [==============================] - 248s 2s/step - loss: 0.0555 - acc: 0.9787 - val_loss: 0.2190 - val_acc: 0.9250\n",
            "\n",
            "Epoch 00007: ReduceLROnPlateau reducing learning rate to 0.0009000000078231095.\n",
            "Epoch 8/30\n",
            "164/164 [==============================] - 248s 2s/step - loss: 0.0431 - acc: 0.9851 - val_loss: 0.2026 - val_acc: 0.9250\n",
            "Epoch 9/30\n",
            "164/164 [==============================] - 248s 2s/step - loss: 0.0485 - acc: 0.9838 - val_loss: 0.1896 - val_acc: 0.9375\n",
            "\n",
            "Epoch 00009: ReduceLROnPlateau reducing learning rate to 0.00026999999536201356.\n",
            "Epoch 10/30\n",
            "164/164 [==============================] - 248s 2s/step - loss: 0.0469 - acc: 0.9834 - val_loss: 0.1884 - val_acc: 0.9344\n",
            "Epoch 11/30\n",
            "164/164 [==============================] - 248s 2s/step - loss: 0.0471 - acc: 0.9832 - val_loss: 0.1850 - val_acc: 0.9375\n",
            "\n",
            "Epoch 00011: ReduceLROnPlateau reducing learning rate to 8.099999686237424e-05.\n",
            "Epoch 12/30\n",
            "164/164 [==============================] - 249s 2s/step - loss: 0.0441 - acc: 0.9853 - val_loss: 0.1845 - val_acc: 0.9375\n",
            "Epoch 13/30\n",
            "164/164 [==============================] - 248s 2s/step - loss: 0.0407 - acc: 0.9872 - val_loss: 0.1846 - val_acc: 0.9375\n",
            "\n",
            "Epoch 00013: ReduceLROnPlateau reducing learning rate to 2.429999949526973e-05.\n",
            "Epoch 14/30\n",
            "164/164 [==============================] - 248s 2s/step - loss: 0.0400 - acc: 0.9855 - val_loss: 0.1848 - val_acc: 0.9375\n",
            "Epoch 15/30\n",
            "164/164 [==============================] - 248s 2s/step - loss: 0.0447 - acc: 0.9838 - val_loss: 0.1841 - val_acc: 0.9375\n",
            "\n",
            "Epoch 00015: ReduceLROnPlateau reducing learning rate to 7.289999848580919e-06.\n",
            "Epoch 16/30\n",
            "164/164 [==============================] - 248s 2s/step - loss: 0.0474 - acc: 0.9848 - val_loss: 0.1853 - val_acc: 0.9375\n",
            "Epoch 17/30\n",
            "164/164 [==============================] - 248s 2s/step - loss: 0.0387 - acc: 0.9874 - val_loss: 0.1837 - val_acc: 0.9375\n",
            "\n",
            "Epoch 00017: ReduceLROnPlateau reducing learning rate to 2.186999927289435e-06.\n",
            "Epoch 18/30\n",
            "164/164 [==============================] - 248s 2s/step - loss: 0.0392 - acc: 0.9865 - val_loss: 0.1848 - val_acc: 0.9375\n",
            "Epoch 19/30\n",
            "164/164 [==============================] - 248s 2s/step - loss: 0.0454 - acc: 0.9853 - val_loss: 0.1861 - val_acc: 0.9344\n",
            "\n",
            "Epoch 00019: ReduceLROnPlateau reducing learning rate to 6.560999509019894e-07.\n",
            "Epoch 20/30\n",
            "164/164 [==============================] - 248s 2s/step - loss: 0.0467 - acc: 0.9843 - val_loss: 0.1849 - val_acc: 0.9375\n",
            "Epoch 21/30\n",
            "164/164 [==============================] - 248s 2s/step - loss: 0.0405 - acc: 0.9865 - val_loss: 0.1858 - val_acc: 0.9359\n",
            "\n",
            "Epoch 00021: ReduceLROnPlateau reducing learning rate to 1.9682997844938655e-07.\n",
            "Epoch 22/30\n",
            "164/164 [==============================] - 248s 2s/step - loss: 0.0426 - acc: 0.9836 - val_loss: 0.1855 - val_acc: 0.9359\n",
            "Epoch 23/30\n",
            "164/164 [==============================] - 247s 2s/step - loss: 0.0473 - acc: 0.9849 - val_loss: 0.1845 - val_acc: 0.9359\n",
            "\n",
            "Epoch 00023: ReduceLROnPlateau reducing learning rate to 5.9048991829513396e-08.\n",
            "Epoch 24/30\n",
            "164/164 [==============================] - 247s 2s/step - loss: 0.0441 - acc: 0.9847 - val_loss: 0.1849 - val_acc: 0.9359\n",
            "Epoch 25/30\n",
            "164/164 [==============================] - 248s 2s/step - loss: 0.0407 - acc: 0.9847 - val_loss: 0.1848 - val_acc: 0.9375\n",
            "\n",
            "Epoch 00025: ReduceLROnPlateau reducing learning rate to 1.771469797517966e-08.\n",
            "Epoch 26/30\n",
            "164/164 [==============================] - 247s 2s/step - loss: 0.0410 - acc: 0.9849 - val_loss: 0.1845 - val_acc: 0.9375\n",
            "Epoch 27/30\n",
            "164/164 [==============================] - 248s 2s/step - loss: 0.0468 - acc: 0.9838 - val_loss: 0.1839 - val_acc: 0.9375\n",
            "\n",
            "Epoch 00027: ReduceLROnPlateau reducing learning rate to 5.314409179391077e-09.\n",
            "Epoch 28/30\n",
            "164/164 [==============================] - 248s 2s/step - loss: 0.0470 - acc: 0.9823 - val_loss: 0.1851 - val_acc: 0.9359\n",
            "Epoch 29/30\n",
            "164/164 [==============================] - 248s 2s/step - loss: 0.0440 - acc: 0.9840 - val_loss: 0.1848 - val_acc: 0.9375\n",
            "\n",
            "Epoch 00029: ReduceLROnPlateau reducing learning rate to 1.5943228071080283e-09.\n",
            "Epoch 30/30\n",
            "164/164 [==============================] - 248s 2s/step - loss: 0.0467 - acc: 0.9834 - val_loss: 0.1831 - val_acc: 0.9375\n"
          ],
          "name": "stdout"
        }
      ]
    },
    {
      "cell_type": "code",
      "metadata": {
        "id": "6sVOcocGWsCP",
        "colab_type": "code",
        "outputId": "37ea828f-77b4-4eea-fe57-d0a27b6888ba",
        "colab": {
          "base_uri": "https://localhost:8080/",
          "height": 241
        }
      },
      "source": [
        "import matplotlib.pyplot as plt\n",
        "%matplotlib inline\n",
        "fig, ax = plt.subplots(1, 2, figsize=(10, 3))\n",
        "ax = ax.ravel()\n",
        "\n",
        "for i, met in enumerate(['acc', 'loss']):\n",
        "    ax[i].plot(history_pretrained.history[met])\n",
        "    ax[i].plot(history_pretrained.history['val_' + met])\n",
        "    ax[i].set_title('Model {}'.format(met))\n",
        "    ax[i].set_xlabel('epochs')\n",
        "    ax[i].set_ylabel(met)\n",
        "    ax[i].legend(['train', 'val'])"
      ],
      "execution_count": 15,
      "outputs": [
        {
          "output_type": "display_data",
          "data": {
            "image/png": "[encoded data removed]",
            "text/plain": [
              "<Figure size 720x216 with 2 Axes>"
            ]
          },
          "metadata": {
            "tags": []
          }
        }
      ]
    },
    {
      "cell_type": "code",
      "metadata": {
        "id": "OG8qq6PC1ind",
        "colab_type": "code",
        "colab": {}
      },
      "source": [
        ""
      ],
      "execution_count": 0,
      "outputs": []
    }
  ]
}