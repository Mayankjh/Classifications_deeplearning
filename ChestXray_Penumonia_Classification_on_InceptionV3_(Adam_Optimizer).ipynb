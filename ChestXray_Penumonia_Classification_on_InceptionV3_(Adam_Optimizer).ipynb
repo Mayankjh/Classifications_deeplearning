{
  "nbformat": 4,
  "nbformat_minor": 0,
  "metadata": {
    "colab": {
      "name": "ChestXray_Penumonia_Classification_on_InceptionV3_(Adam Optimizer).ipynb",
      "provenance": [],
      "collapsed_sections": [],
      "include_colab_link": true
    },
    "kernelspec": {
      "name": "python3",
      "display_name": "Python 3"
    },
    "accelerator": "GPU"
  },
  "cells": [
    {
      "cell_type": "markdown",
      "metadata": {
        "id": "view-in-github",
        "colab_type": "text"
      },
      "source": [
        "<a href=\"https://colab.research.google.com/github/Mayankjh/Classifications_deeplearning/blob/master/ChestXray_Penumonia_Classification_on_InceptionV3_(Adam_Optimizer).ipynb\" target=\"_parent\"><img src=\"https://colab.research.google.com/assets/colab-badge.svg\" alt=\"Open In Colab\"/></a>"
      ]
    },
    {
      "cell_type": "code",
      "metadata": {
        "id": "z0OuAzplG-Ai",
        "colab_type": "code",
        "outputId": "30f606c3-bb8b-40d1-d466-6e547fb563c8",
        "colab": {
          "base_uri": "https://localhost:8080/",
          "height": 122
        }
      },
      "source": [
        "from google.colab import drive\n",
        "drive.mount('/content/drive')"
      ],
      "execution_count": 0,
      "outputs": [
        {
          "output_type": "stream",
          "text": [
            "Go to this URL in a browser: https://accounts.google.com/o/oauth2/auth?client_id=947318989803-6bn6qk8qdgf4n4g3pfee6491hc0brc4i.apps.googleusercontent.com&redirect_uri=urn%3Aietf%3Awg%3Aoauth%3A2.0%3Aoob&scope=email%20https%3A%2F%2Fwww.googleapis.com%2Fauth%2Fdocs.test%20https%3A%2F%2Fwww.googleapis.com%2Fauth%2Fdrive%20https%3A%2F%2Fwww.googleapis.com%2Fauth%2Fdrive.photos.readonly%20https%3A%2F%2Fwww.googleapis.com%2Fauth%2Fpeopleapi.readonly&response_type=code\n",
            "\n",
            "Enter your authorization code:\n",
            "··········\n",
            "Mounted at /content/drive\n"
          ],
          "name": "stdout"
        }
      ]
    },
    {
      "cell_type": "code",
      "metadata": {
        "id": "Fjb1xsntG-j4",
        "colab_type": "code",
        "outputId": "e4a6f685-ea40-4298-dafa-0b05f6ea81cc",
        "colab": {
          "base_uri": "https://localhost:8080/",
          "height": 34
        }
      },
      "source": [
        "ls drive/'My Drive'/chest_xray11"
      ],
      "execution_count": 0,
      "outputs": [
        {
          "output_type": "stream",
          "text": [
            "\u001b[0m\u001b[01;34mtest\u001b[0m/  \u001b[01;34mtrain\u001b[0m/  \u001b[01;34mval\u001b[0m/\n"
          ],
          "name": "stdout"
        }
      ]
    },
    {
      "cell_type": "code",
      "metadata": {
        "id": "mIXwtGMlHOqi",
        "colab_type": "code",
        "outputId": "a7785033-2c51-4c7f-8fb1-6a144b833746",
        "colab": {
          "base_uri": "https://localhost:8080/",
          "height": 114
        }
      },
      "source": [
        "import numpy as np # linear algebra\n",
        "import pandas as pd # data processing, CSV file I/O (e.g. pd.read_csv)\n",
        "\n",
        "# Input data files are available in the \"../input/\" directory.\n",
        "# For example, running this (by clicking run or pressing Shift+Enter) will list the files in the input directory\n",
        "\n",
        "import os\n",
        "print(os.listdir(\"drive/My Drive/chest_xray11\"))\n",
        "\n",
        "from os import listdir, makedirs\n",
        "from os.path import join, exists, expanduser\n",
        "\n",
        "from keras.applications.inception_v3 import InceptionV3\n",
        "from keras import applications\n",
        "from keras.preprocessing.image import ImageDataGenerator\n",
        "from keras import optimizers\n",
        "from keras.models import Sequential, Model, load_model\n",
        "from keras.layers import Dense, GlobalAveragePooling2D\n",
        "from keras.layers import Activation, Dropout, Flatten, Dense\n",
        "from keras import backend as K\n",
        "import tensorflow as tf\n",
        "from keras.utils.data_utils import Sequence\n",
        "import sys\n",
        "from PIL import *\n",
        "sys.modules['Image'] = Image \n",
        "print(os.listdir(\"drive/My Drive/chest_xray11/train\"))"
      ],
      "execution_count": 0,
      "outputs": [
        {
          "output_type": "stream",
          "text": [
            "['test', 'train', 'val', '.ipynb_checkpoints']\n"
          ],
          "name": "stdout"
        },
        {
          "output_type": "stream",
          "text": [
            "Using TensorFlow backend.\n"
          ],
          "name": "stderr"
        },
        {
          "output_type": "display_data",
          "data": {
            "text/html": [
              "<p style=\"color: red;\">\n",
              "The default version of TensorFlow in Colab will soon switch to TensorFlow 2.x.<br>\n",
              "We recommend you <a href=\"https://www.tensorflow.org/guide/migrate\" target=\"_blank\">upgrade</a> now \n",
              "or ensure your notebook will continue to use TensorFlow 1.x via the <code>%tensorflow_version 1.x</code> magic:\n",
              "<a href=\"https://colab.research.google.com/notebooks/tensorflow_version.ipynb\" target=\"_blank\">more info</a>.</p>\n"
            ],
            "text/plain": [
              "<IPython.core.display.HTML object>"
            ]
          },
          "metadata": {
            "tags": []
          }
        },
        {
          "output_type": "stream",
          "text": [
            "['NORMAL', 'PNEUMONIA']\n"
          ],
          "name": "stdout"
        }
      ]
    },
    {
      "cell_type": "code",
      "metadata": {
        "id": "dDryNjXOIF5g",
        "colab_type": "code",
        "colab": {}
      },
      "source": [
        "img_width, img_height = 224,224\n",
        "train_data = 'drive/My Drive/chest_xray11/train'\n",
        "test_data = 'drive/My Drive/chest_xray11/test'\n",
        "# val_data = 'drive/My Drive/chest_xray1/val'"
      ],
      "execution_count": 0,
      "outputs": []
    },
    {
      "cell_type": "code",
      "metadata": {
        "id": "5W_OgxkZIQel",
        "colab_type": "code",
        "outputId": "74e0e847-cae3-4a5a-a3ee-346d19d326bc",
        "colab": {
          "base_uri": "https://localhost:8080/",
          "height": 51
        }
      },
      "source": [
        "from keras.preprocessing.image import ImageDataGenerator\n",
        "train_datagen = ImageDataGenerator(\n",
        "    rescale=1. / 255,\n",
        "    shear_range=0.2,\n",
        "    zoom_range=0.2,\n",
        "    horizontal_flip=True)\n",
        "\n",
        "test_datagen = ImageDataGenerator(rescale=1. / 255)\n",
        "# val_datagen = ImageDataGenerator(rescale=1. / 255)\n",
        "\n",
        "train_generator = train_datagen.flow_from_directory(\n",
        "    train_data,\n",
        "    target_size=(224,224),\n",
        "    batch_size=32,\n",
        "    class_mode='categorical')\n",
        "\n",
        "test_generator = test_datagen.flow_from_directory(\n",
        "    test_data,\n",
        "    target_size=(224,224),\n",
        "    batch_size=32,\n",
        "    class_mode='categorical')\n",
        "\n",
        "# validation_generator = val_datagen.flow_from_directory(\n",
        "#     val_data,\n",
        "#     target_size=(224,224),\n",
        "#     batch_size=32,\n",
        "#     class_mode='categorical')"
      ],
      "execution_count": 0,
      "outputs": [
        {
          "output_type": "stream",
          "text": [
            "Found 5226 images belonging to 2 classes.\n",
            "Found 640 images belonging to 2 classes.\n"
          ],
          "name": "stdout"
        }
      ]
    },
    {
      "cell_type": "code",
      "metadata": {
        "id": "fNkxLCL1IcJJ",
        "colab_type": "code",
        "outputId": "731e3896-fd5a-4dce-c68f-5c21b1896bde",
        "colab": {
          "base_uri": "https://localhost:8080/",
          "height": 513
        }
      },
      "source": [
        "#import inception with pre-trained weights. do not include fully #connected layers\n",
        "\n",
        "from keras.applications.inception_v3 import InceptionV3\n",
        "from keras.layers import Input\n",
        "from keras import optimizers\n",
        "model = InceptionV3(weights='imagenet', include_top=False)"
      ],
      "execution_count": 0,
      "outputs": [
        {
          "output_type": "stream",
          "text": [
            "WARNING:tensorflow:From /usr/local/lib/python3.6/dist-packages/keras/backend/tensorflow_backend.py:66: The name tf.get_default_graph is deprecated. Please use tf.compat.v1.get_default_graph instead.\n",
            "\n",
            "WARNING:tensorflow:From /usr/local/lib/python3.6/dist-packages/keras/backend/tensorflow_backend.py:541: The name tf.placeholder is deprecated. Please use tf.compat.v1.placeholder instead.\n",
            "\n",
            "WARNING:tensorflow:From /usr/local/lib/python3.6/dist-packages/keras/backend/tensorflow_backend.py:4432: The name tf.random_uniform is deprecated. Please use tf.random.uniform instead.\n",
            "\n",
            "WARNING:tensorflow:From /usr/local/lib/python3.6/dist-packages/keras/backend/tensorflow_backend.py:190: The name tf.get_default_session is deprecated. Please use tf.compat.v1.get_default_session instead.\n",
            "\n",
            "WARNING:tensorflow:From /usr/local/lib/python3.6/dist-packages/keras/backend/tensorflow_backend.py:197: The name tf.ConfigProto is deprecated. Please use tf.compat.v1.ConfigProto instead.\n",
            "\n",
            "WARNING:tensorflow:From /usr/local/lib/python3.6/dist-packages/keras/backend/tensorflow_backend.py:203: The name tf.Session is deprecated. Please use tf.compat.v1.Session instead.\n",
            "\n",
            "WARNING:tensorflow:From /usr/local/lib/python3.6/dist-packages/keras/backend/tensorflow_backend.py:207: The name tf.global_variables is deprecated. Please use tf.compat.v1.global_variables instead.\n",
            "\n",
            "WARNING:tensorflow:From /usr/local/lib/python3.6/dist-packages/keras/backend/tensorflow_backend.py:216: The name tf.is_variable_initialized is deprecated. Please use tf.compat.v1.is_variable_initialized instead.\n",
            "\n",
            "WARNING:tensorflow:From /usr/local/lib/python3.6/dist-packages/keras/backend/tensorflow_backend.py:223: The name tf.variables_initializer is deprecated. Please use tf.compat.v1.variables_initializer instead.\n",
            "\n",
            "WARNING:tensorflow:From /usr/local/lib/python3.6/dist-packages/keras/backend/tensorflow_backend.py:2041: The name tf.nn.fused_batch_norm is deprecated. Please use tf.compat.v1.nn.fused_batch_norm instead.\n",
            "\n",
            "WARNING:tensorflow:From /usr/local/lib/python3.6/dist-packages/keras/backend/tensorflow_backend.py:148: The name tf.placeholder_with_default is deprecated. Please use tf.compat.v1.placeholder_with_default instead.\n",
            "\n",
            "WARNING:tensorflow:From /usr/local/lib/python3.6/dist-packages/keras/backend/tensorflow_backend.py:4267: The name tf.nn.max_pool is deprecated. Please use tf.nn.max_pool2d instead.\n",
            "\n",
            "WARNING:tensorflow:From /usr/local/lib/python3.6/dist-packages/keras/backend/tensorflow_backend.py:4271: The name tf.nn.avg_pool is deprecated. Please use tf.nn.avg_pool2d instead.\n",
            "\n",
            "Downloading data from https://github.com/fchollet/deep-learning-models/releases/download/v0.5/inception_v3_weights_tf_dim_ordering_tf_kernels_notop.h5\n",
            "87916544/87910968 [==============================] - 1s 0us/step\n"
          ],
          "name": "stdout"
        }
      ]
    },
    {
      "cell_type": "code",
      "metadata": {
        "id": "ZPw1TKFYI5iE",
        "colab_type": "code",
        "colab": {}
      },
      "source": [
        "\n",
        "result = model.output\n",
        "result = GlobalAveragePooling2D()(result)\n",
        "# add a fully-connected layer\n",
        "# result1 = Dense(256, activation='relu')(result)\n",
        "result = Dense(512, activation='relu')(result)\n",
        "result = Dense(256, activation='relu')(result)\n",
        "# sgd = optimizers.SGD(lr=0.01, decay=1e-6, momentum=0.9, nesterov=True)\n",
        "# and a fully connected output/classification layer\n",
        "predictions = Dense(2, activation='sigmoid')(result)"
      ],
      "execution_count": 0,
      "outputs": []
    },
    {
      "cell_type": "code",
      "metadata": {
        "id": "wq7mTslKI9LZ",
        "colab_type": "code",
        "colab": {}
      },
      "source": [
        "inception_transfer = Model(inputs=model.input, outputs=predictions)\n"
      ],
      "execution_count": 0,
      "outputs": []
    },
    {
      "cell_type": "code",
      "metadata": {
        "id": "iO7JnoS8I_SN",
        "colab_type": "code",
        "outputId": "b6b7861f-a3fa-4212-a643-673f8e887421",
        "colab": {
          "base_uri": "https://localhost:8080/",
          "height": 105
        }
      },
      "source": [
        "from keras.callbacks import ModelCheckpoint, ReduceLROnPlateau, EarlyStopping\n",
        "\n",
        "checkpoint = ModelCheckpoint(filepath='Penumonia_detector_checkpoint.hdf5', save_best_only=True, save_weights_only=True)\n",
        "lr_reduce = ReduceLROnPlateau(monitor='val_loss', factor=0.3, patience=2, verbose=2, mode='max')\n",
        "early_stop = EarlyStopping(monitor='val_loss', min_delta=0.1, patience=1, mode='min')\n",
        "\n",
        "inception_transfer.compile(loss='categorical_crossentropy',\n",
        "              optimizer='adam',\n",
        "              metrics=['accuracy'])"
      ],
      "execution_count": 0,
      "outputs": [
        {
          "output_type": "stream",
          "text": [
            "WARNING:tensorflow:From /usr/local/lib/python3.6/dist-packages/keras/optimizers.py:793: The name tf.train.Optimizer is deprecated. Please use tf.compat.v1.train.Optimizer instead.\n",
            "\n",
            "WARNING:tensorflow:From /usr/local/lib/python3.6/dist-packages/keras/backend/tensorflow_backend.py:3576: The name tf.log is deprecated. Please use tf.math.log instead.\n",
            "\n"
          ],
          "name": "stdout"
        }
      ]
    },
    {
      "cell_type": "code",
      "metadata": {
        "id": "YAwf_mZ_JCLN",
        "colab_type": "code",
        "outputId": "1e45a312-dec3-48b3-a84a-be561558293d",
        "colab": {
          "base_uri": "https://localhost:8080/",
          "height": 1000
        }
      },
      "source": [
        "history_pretrained = inception_transfer.fit_generator(\n",
        "    train_generator,\n",
        "    epochs=30, shuffle = True, verbose = 1, validation_data = test_generator, callbacks=[checkpoint, lr_reduce])"
      ],
      "execution_count": 0,
      "outputs": [
        {
          "output_type": "stream",
          "text": [
            "WARNING:tensorflow:From /usr/local/lib/python3.6/dist-packages/tensorflow_core/python/ops/math_grad.py:1424: where (from tensorflow.python.ops.array_ops) is deprecated and will be removed in a future version.\n",
            "Instructions for updating:\n",
            "Use tf.where in 2.0, which has the same broadcast rule as np.where\n",
            "WARNING:tensorflow:From /usr/local/lib/python3.6/dist-packages/keras/backend/tensorflow_backend.py:1033: The name tf.assign_add is deprecated. Please use tf.compat.v1.assign_add instead.\n",
            "\n",
            "WARNING:tensorflow:From /usr/local/lib/python3.6/dist-packages/keras/backend/tensorflow_backend.py:1020: The name tf.assign is deprecated. Please use tf.compat.v1.assign instead.\n",
            "\n",
            "Epoch 1/30\n",
            "164/164 [==============================] - 2015s 12s/step - loss: 0.2095 - acc: 0.9138 - val_loss: 4.3149 - val_acc: 0.7156\n",
            "Epoch 2/30\n",
            "164/164 [==============================] - 158s 962ms/step - loss: 0.1905 - acc: 0.9289 - val_loss: 6.0947 - val_acc: 0.6219\n",
            "Epoch 3/30\n",
            "164/164 [==============================] - 164s 999ms/step - loss: 0.1566 - acc: 0.9522 - val_loss: 4.9224 - val_acc: 0.4594\n",
            "Epoch 4/30\n",
            "164/164 [==============================] - 163s 996ms/step - loss: 0.1606 - acc: 0.9550 - val_loss: 6.0947 - val_acc: 0.6219\n",
            "\n",
            "Epoch 00004: ReduceLROnPlateau reducing learning rate to 0.0003000000142492354.\n",
            "Epoch 5/30\n",
            "164/164 [==============================] - 162s 988ms/step - loss: 0.1405 - acc: 0.9531 - val_loss: 0.9470 - val_acc: 0.7359\n",
            "Epoch 6/30\n",
            "164/164 [==============================] - 164s 998ms/step - loss: 0.0901 - acc: 0.9705 - val_loss: 0.3913 - val_acc: 0.8688\n",
            "\n",
            "Epoch 00006: ReduceLROnPlateau reducing learning rate to 9.000000427477062e-05.\n",
            "Epoch 7/30\n",
            "164/164 [==============================] - 163s 992ms/step - loss: 0.0689 - acc: 0.9747 - val_loss: 0.2062 - val_acc: 0.9297\n",
            "Epoch 8/30\n",
            "164/164 [==============================] - 163s 993ms/step - loss: 0.0726 - acc: 0.9726 - val_loss: 0.1877 - val_acc: 0.9250\n",
            "\n",
            "Epoch 00008: ReduceLROnPlateau reducing learning rate to 2.700000040931627e-05.\n",
            "Epoch 9/30\n",
            "164/164 [==============================] - 164s 998ms/step - loss: 0.0549 - acc: 0.9804 - val_loss: 0.1722 - val_acc: 0.9297\n",
            "Epoch 10/30\n",
            "164/164 [==============================] - 164s 998ms/step - loss: 0.0545 - acc: 0.9823 - val_loss: 0.2180 - val_acc: 0.9250\n",
            "\n",
            "Epoch 00010: ReduceLROnPlateau reducing learning rate to 8.100000013655517e-06.\n",
            "Epoch 11/30\n",
            "164/164 [==============================] - 163s 997ms/step - loss: 0.0495 - acc: 0.9821 - val_loss: 0.2048 - val_acc: 0.9297\n",
            "Epoch 12/30\n",
            "164/164 [==============================] - 164s 1s/step - loss: 0.0543 - acc: 0.9798 - val_loss: 0.1981 - val_acc: 0.9344\n",
            "\n",
            "Epoch 00012: ReduceLROnPlateau reducing learning rate to 2.429999949526973e-06.\n",
            "Epoch 13/30\n",
            "164/164 [==============================] - 164s 1s/step - loss: 0.0533 - acc: 0.9804 - val_loss: 0.1972 - val_acc: 0.9328\n",
            "Epoch 14/30\n",
            "164/164 [==============================] - 163s 996ms/step - loss: 0.0492 - acc: 0.9811 - val_loss: 0.1973 - val_acc: 0.9313\n",
            "\n",
            "Epoch 00014: ReduceLROnPlateau reducing learning rate to 7.289999985005124e-07.\n",
            "Epoch 15/30\n",
            "164/164 [==============================] - 163s 994ms/step - loss: 0.0526 - acc: 0.9815 - val_loss: 0.1926 - val_acc: 0.9313\n",
            "Epoch 16/30\n",
            "164/164 [==============================] - 163s 995ms/step - loss: 0.0483 - acc: 0.9834 - val_loss: 0.1803 - val_acc: 0.9313\n",
            "\n",
            "Epoch 00016: ReduceLROnPlateau reducing learning rate to 2.1870000637136398e-07.\n",
            "Epoch 17/30\n",
            "164/164 [==============================] - 164s 999ms/step - loss: 0.0470 - acc: 0.9836 - val_loss: 0.1987 - val_acc: 0.9313\n",
            "Epoch 18/30\n",
            "164/164 [==============================] - 164s 998ms/step - loss: 0.0497 - acc: 0.9823 - val_loss: 0.1976 - val_acc: 0.9313\n",
            "\n",
            "Epoch 00018: ReduceLROnPlateau reducing learning rate to 6.561000276406048e-08.\n",
            "Epoch 19/30\n",
            "164/164 [==============================] - 164s 999ms/step - loss: 0.0475 - acc: 0.9825 - val_loss: 0.1846 - val_acc: 0.9313\n",
            "Epoch 20/30\n",
            "164/164 [==============================] - 164s 1s/step - loss: 0.0509 - acc: 0.9821 - val_loss: 0.1980 - val_acc: 0.9313\n",
            "\n",
            "Epoch 00020: ReduceLROnPlateau reducing learning rate to 1.9683000829218145e-08.\n",
            "Epoch 21/30\n",
            "164/164 [==============================] - 164s 1s/step - loss: 0.0488 - acc: 0.9823 - val_loss: 0.1987 - val_acc: 0.9313\n",
            "Epoch 22/30\n",
            "164/164 [==============================] - 164s 1s/step - loss: 0.0451 - acc: 0.9848 - val_loss: 0.1972 - val_acc: 0.9313\n",
            "\n",
            "Epoch 00022: ReduceLROnPlateau reducing learning rate to 5.904900035602622e-09.\n",
            "Epoch 23/30\n",
            "164/164 [==============================] - 164s 999ms/step - loss: 0.0490 - acc: 0.9805 - val_loss: 0.1971 - val_acc: 0.9313\n",
            "Epoch 24/30\n",
            "164/164 [==============================] - 164s 998ms/step - loss: 0.0475 - acc: 0.9808 - val_loss: 0.1975 - val_acc: 0.9313\n",
            "\n",
            "Epoch 00024: ReduceLROnPlateau reducing learning rate to 1.7714700373261393e-09.\n",
            "Epoch 25/30\n",
            "164/164 [==============================] - 164s 999ms/step - loss: 0.0446 - acc: 0.9836 - val_loss: 0.1985 - val_acc: 0.9313\n",
            "Epoch 26/30\n",
            "164/164 [==============================] - 165s 1s/step - loss: 0.0545 - acc: 0.9794 - val_loss: 0.1971 - val_acc: 0.9313\n",
            "\n",
            "Epoch 00026: ReduceLROnPlateau reducing learning rate to 5.314410245205181e-10.\n",
            "Epoch 27/30\n",
            "164/164 [==============================] - 164s 999ms/step - loss: 0.0491 - acc: 0.9823 - val_loss: 0.1970 - val_acc: 0.9313\n",
            "Epoch 28/30\n",
            "164/164 [==============================] - 164s 1s/step - loss: 0.0501 - acc: 0.9809 - val_loss: 0.1964 - val_acc: 0.9313\n",
            "\n",
            "Epoch 00028: ReduceLROnPlateau reducing learning rate to 1.5943230069481729e-10.\n",
            "Epoch 29/30\n",
            "164/164 [==============================] - 166s 1s/step - loss: 0.0508 - acc: 0.9827 - val_loss: 0.1975 - val_acc: 0.9313\n",
            "Epoch 30/30\n",
            "164/164 [==============================] - 164s 1s/step - loss: 0.0510 - acc: 0.9806 - val_loss: 0.1978 - val_acc: 0.9313\n",
            "\n",
            "Epoch 00030: ReduceLROnPlateau reducing learning rate to 4.7829690208445185e-11.\n"
          ],
          "name": "stdout"
        }
      ]
    },
    {
      "cell_type": "code",
      "metadata": {
        "id": "6sVOcocGWsCP",
        "colab_type": "code",
        "outputId": "dbd782b9-4390-4457-c530-ecfdb267cebd",
        "colab": {
          "base_uri": "https://localhost:8080/",
          "height": 241
        }
      },
      "source": [
        "import matplotlib.pyplot as plt\n",
        "%matplotlib inline\n",
        "fig, ax = plt.subplots(1, 2, figsize=(10, 3))\n",
        "ax = ax.ravel()\n",
        "\n",
        "for i, met in enumerate(['acc', 'loss']):\n",
        "    ax[i].plot(history_pretrained.history[met])\n",
        "    ax[i].plot(history_pretrained.history['val_' + met])\n",
        "    ax[i].set_title('Model {}'.format(met))\n",
        "    ax[i].set_xlabel('epochs')\n",
        "    ax[i].set_ylabel(met)\n",
        "    ax[i].legend(['train', 'val'])"
      ],
      "execution_count": 0,
      "outputs": [
        {
          "output_type": "display_data",
          "data": {
            "image/png": "[encoded data removed]",
            "text/plain": [
              "<Figure size 720x216 with 2 Axes>"
            ]
          },
          "metadata": {
            "tags": []
          }
        }
      ]
    },
    {
      "cell_type": "code",
      "metadata": {
        "id": "OG8qq6PC1ind",
        "colab_type": "code",
        "colab": {}
      },
      "source": [
        ""
      ],
      "execution_count": 0,
      "outputs": []
    }
  ]
}